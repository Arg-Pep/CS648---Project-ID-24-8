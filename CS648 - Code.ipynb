{
 "cells": [
  {
   "cell_type": "code",
   "execution_count": 2,
   "metadata": {},
   "outputs": [
    {
     "name": "stdout",
     "output_type": "stream",
     "text": [
      "Requirement already satisfied: pybliometrics in c:\\users\\fszeliga\\anaconda3\\lib\\site-packages (4.0)\n",
      "Requirement already satisfied: requests in c:\\users\\fszeliga\\anaconda3\\lib\\site-packages (from pybliometrics) (2.31.0)\n",
      "Requirement already satisfied: tqdm in c:\\users\\fszeliga\\anaconda3\\lib\\site-packages (from pybliometrics) (4.65.0)\n",
      "Requirement already satisfied: urllib3 in c:\\users\\fszeliga\\anaconda3\\lib\\site-packages (from pybliometrics) (2.0.7)\n",
      "Requirement already satisfied: charset-normalizer<4,>=2 in c:\\users\\fszeliga\\anaconda3\\lib\\site-packages (from requests->pybliometrics) (2.0.4)\n",
      "Requirement already satisfied: idna<4,>=2.5 in c:\\users\\fszeliga\\anaconda3\\lib\\site-packages (from requests->pybliometrics) (3.4)\n",
      "Requirement already satisfied: certifi>=2017.4.17 in c:\\users\\fszeliga\\anaconda3\\lib\\site-packages (from requests->pybliometrics) (2024.2.2)\n",
      "Requirement already satisfied: colorama in c:\\users\\fszeliga\\anaconda3\\lib\\site-packages (from tqdm->pybliometrics) (0.4.6)\n",
      "Note: you may need to restart the kernel to use updated packages.\n"
     ]
    }
   ],
   "source": [
    "pip install pybliometrics"
   ]
  },
  {
   "cell_type": "code",
   "execution_count": 3,
   "metadata": {},
   "outputs": [],
   "source": [
    "# library configuration: https://pybliometrics.readthedocs.io/en/latest/configuration.html\n",
    "# The first time init() is run there will be a prompt to input the key and instoken\n",
    "# API Key: 4fec016525bc7cf8febea7c81db45976\n",
    "# Instoken: 03a9e22c2f85af0fcdd7f9415998446b\n",
    "\n",
    "\n",
    "import pybliometrics\n",
    "\n",
    "pybliometrics.scopus.init()\n"
   ]
  },
  {
   "cell_type": "code",
   "execution_count": 4,
   "metadata": {},
   "outputs": [
    {
     "data": {
      "text/plain": [
       "WindowsPath('C:/Users/FSzeliga/.config/pybliometrics.cfg')"
      ]
     },
     "execution_count": 4,
     "metadata": {},
     "output_type": "execute_result"
    }
   ],
   "source": [
    "# Line of code to check where the configuration file is saved\n",
    "\n",
    "pybliometrics.scopus.utils.constants.CONFIG_FILE"
   ]
  },
  {
   "cell_type": "code",
   "execution_count": 5,
   "metadata": {},
   "outputs": [],
   "source": [
    "# Import pacakages\n",
    "\n",
    "from pybliometrics.scopus import ScopusSearch\n",
    "from pybliometrics.scopus import AuthorSearch\n",
    "import pandas as pd\n",
    "import json\n",
    "from tqdm import tqdm"
   ]
  },
  {
   "cell_type": "code",
   "execution_count": 6,
   "metadata": {},
   "outputs": [],
   "source": [
    "# set of parameters\n",
    "\n",
    "min_year = 2013\n",
    "max_year = 2023"
   ]
  },
  {
   "cell_type": "markdown",
   "metadata": {},
   "source": [
    "#### Applied Geography (APG)"
   ]
  },
  {
   "cell_type": "code",
   "execution_count": 7,
   "metadata": {},
   "outputs": [],
   "source": [
    "# Query set up and Scopus search\n",
    "\n",
    "apg_query = f'EXACTSRCTITLE(Applied+AND+Geography) AND PUBYEAR > {min_year-1} AND PUBYEAR < {max_year+1}' \n",
    "\n",
    "s1 = ScopusSearch(apg_query, verbose=True, download=True, refresh=180) # Refresh=180 means that the results will be downloaded again after 180 days (to ensure up-to-date information)\n"
   ]
  },
  {
   "cell_type": "code",
   "execution_count": 8,
   "metadata": {},
   "outputs": [
    {
     "data": {
      "text/plain": [
       "2193"
      ]
     },
     "execution_count": 8,
     "metadata": {},
     "output_type": "execute_result"
    }
   ],
   "source": [
    "# Checking length of results\n",
    "\n",
    "s1.get_results_size()"
   ]
  },
  {
   "cell_type": "code",
   "execution_count": 9,
   "metadata": {},
   "outputs": [],
   "source": [
    "# Conversion to dataframe\n",
    "\n",
    "apg_df = pd.DataFrame(s1.results)"
   ]
  },
  {
   "cell_type": "code",
   "execution_count": 10,
   "metadata": {},
   "outputs": [
    {
     "name": "stdout",
     "output_type": "stream",
     "text": [
      "The total number of unique DOI values is 2193\n",
      "The total number of unique journal titles 3\n"
     ]
    }
   ],
   "source": [
    "# Unique Values\n",
    "\n",
    "unique_doi = apg_df['doi'].unique()\n",
    "print(f\"The total number of unique DOI values is {len(unique_doi)}\")\n",
    "\n",
    "unique_journal = apg_df['publicationName'].unique()\n",
    "print(f\"The total number of unique journal titles {len(unique_journal)}\")"
   ]
  },
  {
   "cell_type": "code",
   "execution_count": 11,
   "metadata": {},
   "outputs": [
    {
     "name": "stdout",
     "output_type": "stream",
     "text": [
      "['Applied Geography' 'Papers in Applied Geography'\n",
      " 'The Black Sea from Paleogeography to Modern Navigation: Applied Maritime Geography and Oceanography']\n"
     ]
    }
   ],
   "source": [
    "# Print Journal Unique Values\n",
    "print(unique_journal)"
   ]
  },
  {
   "cell_type": "code",
   "execution_count": 12,
   "metadata": {},
   "outputs": [],
   "source": [
    "# Filter the DataFrame to keep only rows where 'journal_title' is 'Applied Geography'\n",
    "apg_df = apg_df[apg_df['publicationName'] == 'Applied Geography']"
   ]
  },
  {
   "cell_type": "markdown",
   "metadata": {},
   "source": [
    "#### Cartography and Geographic Information Science (CaGIS)"
   ]
  },
  {
   "cell_type": "code",
   "execution_count": 13,
   "metadata": {},
   "outputs": [],
   "source": [
    "# Query set up and Scopus search\n",
    "\n",
    "cagis_query = f'EXACTSRCTITLE(Cartography+AND+Geographic+AND+Information+AND+Science) AND PUBYEAR > {min_year-1} AND PUBYEAR < {max_year+1}' \n",
    "\n",
    "s2 = ScopusSearch(cagis_query, verbose=True, download=True, refresh=180) # Refresh=180 means that the results will be downloaded again after 180 days (to ensure up-to-date information)"
   ]
  },
  {
   "cell_type": "code",
   "execution_count": 14,
   "metadata": {},
   "outputs": [
    {
     "data": {
      "text/plain": [
       "448"
      ]
     },
     "execution_count": 14,
     "metadata": {},
     "output_type": "execute_result"
    }
   ],
   "source": [
    "# Checking length of results\n",
    "\n",
    "s2.get_results_size()"
   ]
  },
  {
   "cell_type": "code",
   "execution_count": 15,
   "metadata": {},
   "outputs": [],
   "source": [
    "# Conversion to dataframe\n",
    "\n",
    "cagis_df = pd.DataFrame(s2.results)"
   ]
  },
  {
   "cell_type": "code",
   "execution_count": 16,
   "metadata": {},
   "outputs": [
    {
     "name": "stdout",
     "output_type": "stream",
     "text": [
      "The total number of unique DOI values is 448\n",
      "The total number of unique journal titles 1\n"
     ]
    }
   ],
   "source": [
    "# Unique Values\n",
    "\n",
    "unique_doi = cagis_df['doi'].unique()\n",
    "print(f\"The total number of unique DOI values is {len(unique_doi)}\")\n",
    "\n",
    "unique_journal = cagis_df['publicationName'].unique()\n",
    "print(f\"The total number of unique journal titles {len(unique_journal)}\")"
   ]
  },
  {
   "cell_type": "code",
   "execution_count": 17,
   "metadata": {},
   "outputs": [
    {
     "name": "stdout",
     "output_type": "stream",
     "text": [
      "['Cartography and Geographic Information Science']\n"
     ]
    }
   ],
   "source": [
    "# Print Journal Unique Values\n",
    "print(unique_journal)"
   ]
  },
  {
   "cell_type": "markdown",
   "metadata": {},
   "source": [
    "#### GIScience and Remote Sensing (G&RS)"
   ]
  },
  {
   "cell_type": "code",
   "execution_count": 18,
   "metadata": {},
   "outputs": [],
   "source": [
    "# Query set up and Scopus search\n",
    "\n",
    "gandrs_query = f'EXACTSRCTITLE(GIScience+AND+Remote+AND+Sensing) AND PUBYEAR > {min_year-1} AND PUBYEAR < {max_year+1}' \n",
    "\n",
    "s3 = ScopusSearch(gandrs_query, verbose=True, download=True, refresh=180) # Refresh=180 means that the results will be downloaded again after 180 days (to ensure up-to-date information)"
   ]
  },
  {
   "cell_type": "code",
   "execution_count": 19,
   "metadata": {},
   "outputs": [
    {
     "data": {
      "text/plain": [
       "700"
      ]
     },
     "execution_count": 19,
     "metadata": {},
     "output_type": "execute_result"
    }
   ],
   "source": [
    "# Checking length of results\n",
    "\n",
    "s3.get_results_size()"
   ]
  },
  {
   "cell_type": "code",
   "execution_count": 20,
   "metadata": {},
   "outputs": [],
   "source": [
    "# Conversion to dataframe\n",
    "\n",
    "gandrs_df = pd.DataFrame(s3.results)"
   ]
  },
  {
   "cell_type": "code",
   "execution_count": 21,
   "metadata": {},
   "outputs": [
    {
     "name": "stdout",
     "output_type": "stream",
     "text": [
      "The total number of unique DOI values is 700\n",
      "The total number of unique journal titles 2\n"
     ]
    }
   ],
   "source": [
    "# Unique Values\n",
    "\n",
    "unique_doi = gandrs_df['doi'].unique()\n",
    "print(f\"The total number of unique DOI values is {len(unique_doi)}\")\n",
    "\n",
    "unique_journal = gandrs_df['publicationName'].unique()\n",
    "print(f\"The total number of unique journal titles {len(unique_journal)}\")"
   ]
  },
  {
   "cell_type": "code",
   "execution_count": 22,
   "metadata": {},
   "outputs": [
    {
     "name": "stdout",
     "output_type": "stream",
     "text": [
      "['GIScience and Remote Sensing'\n",
      " 'Remote Sensing and GIScience: Challenges and Future Directions']\n"
     ]
    }
   ],
   "source": [
    "# Print Journal Unique Values\n",
    "print(unique_journal)"
   ]
  },
  {
   "cell_type": "code",
   "execution_count": 23,
   "metadata": {},
   "outputs": [],
   "source": [
    "# Filter the DataFrame to keep only rows where 'journal_title' is 'GIScience and Remote Sensing'\n",
    "gandrs_df = gandrs_df[gandrs_df['publicationName'] == 'GIScience and Remote Sensing']"
   ]
  },
  {
   "cell_type": "markdown",
   "metadata": {},
   "source": [
    "#### International Journal of Digital Earth (IJDE)"
   ]
  },
  {
   "cell_type": "code",
   "execution_count": 24,
   "metadata": {},
   "outputs": [],
   "source": [
    "# Query set up and Scopus search\n",
    "\n",
    "ijde_query = f'EXACTSRCTITLE(International+AND+Journal+AND+of+AND+Digital+AND+Earth) AND PUBYEAR > {min_year-1} AND PUBYEAR < {max_year+1}' \n",
    "\n",
    "s4 = ScopusSearch(ijde_query, verbose=True, refresh=180) # Refresh=180 means that the results will be downloaded again after 180 days (to ensure up-to-date information)"
   ]
  },
  {
   "cell_type": "code",
   "execution_count": 25,
   "metadata": {},
   "outputs": [
    {
     "data": {
      "text/plain": [
       "992"
      ]
     },
     "execution_count": 25,
     "metadata": {},
     "output_type": "execute_result"
    }
   ],
   "source": [
    "# Checking length of results\n",
    "\n",
    "s4.get_results_size()"
   ]
  },
  {
   "cell_type": "code",
   "execution_count": 26,
   "metadata": {},
   "outputs": [],
   "source": [
    "# Conversion to dataframe\n",
    "\n",
    "ijde_df = pd.DataFrame(s4.results)"
   ]
  },
  {
   "cell_type": "code",
   "execution_count": 27,
   "metadata": {},
   "outputs": [
    {
     "name": "stdout",
     "output_type": "stream",
     "text": [
      "The total number of unique DOI values is 992\n",
      "The total number of unique journal titles 1\n"
     ]
    }
   ],
   "source": [
    "# Unique Values\n",
    "\n",
    "unique_doi = ijde_df['doi'].unique()\n",
    "print(f\"The total number of unique DOI values is {len(unique_doi)}\")\n",
    "\n",
    "unique_journal = ijde_df['publicationName'].unique()\n",
    "print(f\"The total number of unique journal titles {len(unique_journal)}\")"
   ]
  },
  {
   "cell_type": "code",
   "execution_count": 28,
   "metadata": {},
   "outputs": [
    {
     "name": "stdout",
     "output_type": "stream",
     "text": [
      "['International Journal of Digital Earth']\n"
     ]
    }
   ],
   "source": [
    "# Print Journal Unique Values\n",
    "print(unique_journal)"
   ]
  },
  {
   "cell_type": "markdown",
   "metadata": {},
   "source": [
    "#### ISPRS International Journal of Geo-information (IJGI)"
   ]
  },
  {
   "cell_type": "code",
   "execution_count": 29,
   "metadata": {},
   "outputs": [],
   "source": [
    "# Query set up and Scopus search\n",
    "\n",
    "ijgi_query = f'EXACTSRCTITLE(ISPRS+AND+International+AND+Journal+AND+of+AND+Geo-information) AND PUBYEAR > {min_year-1} AND PUBYEAR < {max_year+1}' \n",
    "\n",
    "s5 = ScopusSearch(ijgi_query, verbose=True, refresh=180) # Refresh=180 means that the results will be downloaded again after 180 days (to ensure up-to-date information)"
   ]
  },
  {
   "cell_type": "code",
   "execution_count": 30,
   "metadata": {},
   "outputs": [
    {
     "data": {
      "text/plain": [
       "4690"
      ]
     },
     "execution_count": 30,
     "metadata": {},
     "output_type": "execute_result"
    }
   ],
   "source": [
    "# Checking length of results\n",
    "\n",
    "s5.get_results_size()"
   ]
  },
  {
   "cell_type": "code",
   "execution_count": 31,
   "metadata": {},
   "outputs": [],
   "source": [
    "# Conversion to dataframe\n",
    "\n",
    "ijgi_df = pd.DataFrame(s5.results)"
   ]
  },
  {
   "cell_type": "code",
   "execution_count": 32,
   "metadata": {},
   "outputs": [
    {
     "name": "stdout",
     "output_type": "stream",
     "text": [
      "The total number of unique DOI values is 4690\n",
      "The total number of unique journal titles 1\n"
     ]
    }
   ],
   "source": [
    "# Unique Values\n",
    "\n",
    "unique_doi = ijgi_df['doi'].unique()\n",
    "print(f\"The total number of unique DOI values is {len(unique_doi)}\")\n",
    "\n",
    "unique_journal = ijgi_df['publicationName'].unique()\n",
    "print(f\"The total number of unique journal titles {len(unique_journal)}\")"
   ]
  },
  {
   "cell_type": "code",
   "execution_count": 33,
   "metadata": {},
   "outputs": [
    {
     "name": "stdout",
     "output_type": "stream",
     "text": [
      "['ISPRS International Journal of Geo-Information']\n"
     ]
    }
   ],
   "source": [
    "# Print Journal Unique Values\n",
    "print(unique_journal)"
   ]
  },
  {
   "cell_type": "markdown",
   "metadata": {},
   "source": [
    "#### International Journal of Geographical Information Science (IJGIS)"
   ]
  },
  {
   "cell_type": "code",
   "execution_count": 34,
   "metadata": {},
   "outputs": [],
   "source": [
    "# Query set up and Scopus search\n",
    "\n",
    "ijgis_query = f'EXACTSRCTITLE(International+AND+Journal+AND+of+AND+Geographical+AND+Information+AND+Science) AND PUBYEAR > {min_year-1} AND PUBYEAR < {max_year+1}' \n",
    "\n",
    "s6 = ScopusSearch(ijgis_query, verbose=True, refresh=180) # Refresh=180 means that the results will be downloaded again after 180 days (to ensure up-to-date information)"
   ]
  },
  {
   "cell_type": "code",
   "execution_count": 35,
   "metadata": {},
   "outputs": [
    {
     "data": {
      "text/plain": [
       "1264"
      ]
     },
     "execution_count": 35,
     "metadata": {},
     "output_type": "execute_result"
    }
   ],
   "source": [
    "# Checking length of results\n",
    "\n",
    "s6.get_results_size()"
   ]
  },
  {
   "cell_type": "code",
   "execution_count": 36,
   "metadata": {},
   "outputs": [],
   "source": [
    "# Conversion to dataframe\n",
    "\n",
    "ijgis_df = pd.DataFrame(s6.results)"
   ]
  },
  {
   "cell_type": "code",
   "execution_count": 37,
   "metadata": {},
   "outputs": [
    {
     "name": "stdout",
     "output_type": "stream",
     "text": [
      "The total number of unique DOI values is 1264\n",
      "The total number of unique journal titles 1\n"
     ]
    }
   ],
   "source": [
    "# Unique Values\n",
    "\n",
    "unique_doi = ijgis_df['doi'].unique()\n",
    "print(f\"The total number of unique DOI values is {len(unique_doi)}\")\n",
    "\n",
    "unique_journal = ijgis_df['publicationName'].unique()\n",
    "print(f\"The total number of unique journal titles {len(unique_journal)}\")"
   ]
  },
  {
   "cell_type": "code",
   "execution_count": 38,
   "metadata": {},
   "outputs": [
    {
     "name": "stdout",
     "output_type": "stream",
     "text": [
      "['International Journal of Geographical Information Science']\n"
     ]
    }
   ],
   "source": [
    "# Print Journal Unique Values\n",
    "print(unique_journal)"
   ]
  },
  {
   "cell_type": "markdown",
   "metadata": {},
   "source": [
    "#### Journal of Spatial Science (JSS)"
   ]
  },
  {
   "cell_type": "code",
   "execution_count": 39,
   "metadata": {},
   "outputs": [],
   "source": [
    "# Query set up and Scopus search\n",
    "\n",
    "jss_query = f'EXACTSRCTITLE(Journal+AND+of+AND+Spatial+AND+Science) AND PUBYEAR > {min_year-1} AND PUBYEAR < {max_year+1}' \n",
    "\n",
    "s7 = ScopusSearch(jss_query, verbose=True, refresh=180) # Refresh=180 means that the results will be downloaded again after 180 days (to ensure up-to-date information)"
   ]
  },
  {
   "cell_type": "code",
   "execution_count": 40,
   "metadata": {},
   "outputs": [
    {
     "data": {
      "text/plain": [
       "493"
      ]
     },
     "execution_count": 40,
     "metadata": {},
     "output_type": "execute_result"
    }
   ],
   "source": [
    "# Checking length of results\n",
    "\n",
    "s7.get_results_size()"
   ]
  },
  {
   "cell_type": "code",
   "execution_count": 41,
   "metadata": {},
   "outputs": [],
   "source": [
    "# Conversion to dataframe\n",
    "\n",
    "jss_df = pd.DataFrame(s7.results)"
   ]
  },
  {
   "cell_type": "code",
   "execution_count": 42,
   "metadata": {},
   "outputs": [
    {
     "name": "stdout",
     "output_type": "stream",
     "text": [
      "The total number of unique DOI values is 493\n",
      "The total number of unique journal titles 2\n"
     ]
    }
   ],
   "source": [
    "# Unique Values\n",
    "\n",
    "unique_doi = jss_df['doi'].unique()\n",
    "print(f\"The total number of unique DOI values is {len(unique_doi)}\")\n",
    "\n",
    "unique_journal = jss_df['publicationName'].unique()\n",
    "print(f\"The total number of unique journal titles {len(unique_journal)}\")"
   ]
  },
  {
   "cell_type": "code",
   "execution_count": 43,
   "metadata": {},
   "outputs": [
    {
     "name": "stdout",
     "output_type": "stream",
     "text": [
      "['Journal of Spatial Information Science' 'Journal of Spatial Science']\n"
     ]
    }
   ],
   "source": [
    "# Print Journal Unique Values\n",
    "print(unique_journal)"
   ]
  },
  {
   "cell_type": "code",
   "execution_count": 44,
   "metadata": {},
   "outputs": [],
   "source": [
    "# Filter the DataFrame to keep only rows where 'journal_title' is 'Journal of Spatial Science'\n",
    "jss_df = jss_df[jss_df['publicationName'] == 'Journal of Spatial Science']"
   ]
  },
  {
   "cell_type": "markdown",
   "metadata": {},
   "source": [
    "#### ISPRS Journal of Photogrammetry and Remote Sensing (P&RS)"
   ]
  },
  {
   "cell_type": "code",
   "execution_count": 45,
   "metadata": {},
   "outputs": [],
   "source": [
    "# Query set up and Scopus search\n",
    "\n",
    "pandrs_query = f'EXACTSRCTITLE(ISPRS+AND+Journal+AND+of+AND+Photogrammetry+AND+Remote+AND+Sensing) AND PUBYEAR > {min_year-1} AND PUBYEAR < {max_year+1}' \n",
    "\n",
    "s8 = ScopusSearch(pandrs_query, verbose=True, refresh=180) # Refresh=180 means that the results will be downloaded again after 180 days (to ensure up-to-date information)"
   ]
  },
  {
   "cell_type": "code",
   "execution_count": 46,
   "metadata": {},
   "outputs": [
    {
     "data": {
      "text/plain": [
       "2481"
      ]
     },
     "execution_count": 46,
     "metadata": {},
     "output_type": "execute_result"
    }
   ],
   "source": [
    "# Checking length of results\n",
    "\n",
    "s8.get_results_size()"
   ]
  },
  {
   "cell_type": "code",
   "execution_count": 47,
   "metadata": {},
   "outputs": [],
   "source": [
    "# Conversion to dataframe\n",
    "\n",
    "pandrs_df = pd.DataFrame(s8.results)"
   ]
  },
  {
   "cell_type": "code",
   "execution_count": 48,
   "metadata": {},
   "outputs": [
    {
     "name": "stdout",
     "output_type": "stream",
     "text": [
      "The total number of unique DOI values is 2481\n",
      "The total number of unique journal titles 2\n"
     ]
    }
   ],
   "source": [
    "# Unique Values\n",
    "\n",
    "unique_doi = pandrs_df['doi'].unique()\n",
    "print(f\"The total number of unique DOI values is {len(unique_doi)}\")\n",
    "\n",
    "unique_journal = pandrs_df['publicationName'].unique()\n",
    "print(f\"The total number of unique journal titles {len(unique_journal)}\")"
   ]
  },
  {
   "cell_type": "code",
   "execution_count": 49,
   "metadata": {},
   "outputs": [
    {
     "name": "stdout",
     "output_type": "stream",
     "text": [
      "['ISPRS Open Journal of Photogrammetry and Remote Sensing'\n",
      " 'ISPRS Journal of Photogrammetry and Remote Sensing']\n"
     ]
    }
   ],
   "source": [
    "# Print Journal Unique Values\n",
    "print(unique_journal)"
   ]
  },
  {
   "cell_type": "code",
   "execution_count": 50,
   "metadata": {},
   "outputs": [],
   "source": [
    "# Filter the DataFrame to keep only rows where 'journal_title' is 'ISPRS Journal of Photogrammetry and Remote Sensing'\n",
    "pandrs_df = pandrs_df[pandrs_df['publicationName'] == 'ISPRS Journal of Photogrammetry and Remote Sensing']"
   ]
  },
  {
   "cell_type": "markdown",
   "metadata": {},
   "source": [
    "#### Transactions in GIS (TGIS)"
   ]
  },
  {
   "cell_type": "code",
   "execution_count": 51,
   "metadata": {},
   "outputs": [],
   "source": [
    "# Query set up and Scopus search\n",
    "\n",
    "tgis_query = f'EXACTSRCTITLE(Transactions+AND+in+AND+GIS) AND PUBYEAR > {min_year-1} AND PUBYEAR < {max_year+1}' \n",
    "\n",
    "s9 = ScopusSearch(tgis_query, verbose=True, refresh=180) # Refresh=180 means that the results will be downloaded again after 180 days (to ensure up-to-date information)"
   ]
  },
  {
   "cell_type": "code",
   "execution_count": 52,
   "metadata": {},
   "outputs": [
    {
     "data": {
      "text/plain": [
       "962"
      ]
     },
     "execution_count": 52,
     "metadata": {},
     "output_type": "execute_result"
    }
   ],
   "source": [
    "# Checking length of results\n",
    "\n",
    "s9.get_results_size()"
   ]
  },
  {
   "cell_type": "code",
   "execution_count": 53,
   "metadata": {},
   "outputs": [],
   "source": [
    "# Conversion to dataframe\n",
    "\n",
    "tgis_df = pd.DataFrame(s9.results)"
   ]
  },
  {
   "cell_type": "code",
   "execution_count": 54,
   "metadata": {},
   "outputs": [
    {
     "name": "stdout",
     "output_type": "stream",
     "text": [
      "The total number of unique DOI values is 962\n",
      "The total number of unique journal titles 1\n"
     ]
    }
   ],
   "source": [
    "# Unique Values\n",
    "\n",
    "unique_doi = tgis_df['doi'].unique()\n",
    "print(f\"The total number of unique DOI values is {len(unique_doi)}\")\n",
    "\n",
    "unique_journal = tgis_df['publicationName'].unique()\n",
    "print(f\"The total number of unique journal titles {len(unique_journal)}\")"
   ]
  },
  {
   "cell_type": "code",
   "execution_count": 55,
   "metadata": {},
   "outputs": [
    {
     "name": "stdout",
     "output_type": "stream",
     "text": [
      "['Transactions in GIS']\n"
     ]
    }
   ],
   "source": [
    "# Print Journal Unique Values\n",
    "print(unique_journal)"
   ]
  },
  {
   "cell_type": "markdown",
   "metadata": {},
   "source": [
    "#### ACM Transactions on Spatial Algorithms and Systems (TSAS)"
   ]
  },
  {
   "cell_type": "code",
   "execution_count": 56,
   "metadata": {},
   "outputs": [],
   "source": [
    "# Query set up and Scopus search\n",
    "\n",
    "tsas_query = f'EXACTSRCTITLE(ACM+AND+Transactions+AND+on+AND+Spatial+AND+Algorithms+AND+Systems) AND PUBYEAR > {min_year-1} AND PUBYEAR < {max_year+1}' \n",
    "\n",
    "s10 = ScopusSearch(tsas_query, verbose=True, refresh=180) # Refresh=180 means that the results will be downloaded again after 180 days (to ensure up-to-date information)"
   ]
  },
  {
   "cell_type": "code",
   "execution_count": 57,
   "metadata": {},
   "outputs": [
    {
     "data": {
      "text/plain": [
       "190"
      ]
     },
     "execution_count": 57,
     "metadata": {},
     "output_type": "execute_result"
    }
   ],
   "source": [
    "# Checking length of results\n",
    "\n",
    "s10.get_results_size()"
   ]
  },
  {
   "cell_type": "code",
   "execution_count": 58,
   "metadata": {},
   "outputs": [],
   "source": [
    "# Conversion to dataframe\n",
    "\n",
    "tsas_df = pd.DataFrame(s10.results)"
   ]
  },
  {
   "cell_type": "code",
   "execution_count": 59,
   "metadata": {},
   "outputs": [
    {
     "name": "stdout",
     "output_type": "stream",
     "text": [
      "The total number of unique DOI values is 190\n",
      "The total number of unique journal titles 1\n"
     ]
    }
   ],
   "source": [
    "# Unique Values\n",
    "\n",
    "unique_doi = tsas_df['doi'].unique()\n",
    "print(f\"The total number of unique DOI values is {len(unique_doi)}\")\n",
    "\n",
    "unique_journal = tsas_df['publicationName'].unique()\n",
    "print(f\"The total number of unique journal titles {len(unique_journal)}\")"
   ]
  },
  {
   "cell_type": "code",
   "execution_count": 60,
   "metadata": {},
   "outputs": [
    {
     "name": "stdout",
     "output_type": "stream",
     "text": [
      "['ACM Transactions on Spatial Algorithms and Systems']\n"
     ]
    }
   ],
   "source": [
    "# Print Journal Unique Values\n",
    "print(unique_journal)"
   ]
  },
  {
   "cell_type": "markdown",
   "metadata": {},
   "source": [
    "#### Combination of journal dataframes and export to json"
   ]
  },
  {
   "cell_type": "code",
   "execution_count": 61,
   "metadata": {},
   "outputs": [],
   "source": [
    "# Concatenation of journals dataframes\n",
    "scopus_api_df = pd.concat([apg_df, cagis_df, gandrs_df, ijde_df, ijgi_df, ijgis_df, jss_df, pandrs_df, tgis_df, tsas_df], ignore_index=True)\n",
    "drop_columns = ['eid', 'pii', 'pubmed_id', 'subtype', 'afid', 'affilname',\n",
    "           'author_afids', 'source_id', 'eIssn', 'aggregationType','volume', \n",
    "           'issueIdentifier', 'article_number', 'pageRange', 'citedby_count', 'openaccess', 'freetoread', \n",
    "           'freetoreadLabel', 'fund_acr', 'fund_no', 'fund_sponsor']\n",
    "\n",
    "scopus_api_df = scopus_api_df.drop(columns = drop_columns)"
   ]
  },
  {
   "cell_type": "code",
   "execution_count": 62,
   "metadata": {},
   "outputs": [],
   "source": [
    "# Drop rows where there is no creator data\n",
    "scopus_api_df = scopus_api_df.dropna(subset=['creator'])\n",
    "\n",
    "# First Author ID column\n",
    "scopus_api_df['creator_id'] = scopus_api_df['author_ids'].apply(lambda x: x.split(';')[0] if pd.notna(x) else x)\n"
   ]
  },
  {
   "cell_type": "markdown",
   "metadata": {},
   "source": [
    "The view of the data below shows that the API extracted multiple values for the columns \"affiliation_city\" and \"affiliation_country\", which refer to the first author of the article. Following further research on this issue using the Elsevier Search API - Interactive Documentation (https://dev.elsevier.com/search.html#!/Scopus_Search/ScopusSearch), it was noted that this seems to be a fault in the Scopus_Search API, because when searching for the author's details using the Author_Search API instead, only one affiliation name, city and country is returned in most cases for each author. "
   ]
  },
  {
   "cell_type": "code",
   "execution_count": 63,
   "metadata": {},
   "outputs": [
    {
     "data": {
      "text/html": [
       "<div>\n",
       "<style scoped>\n",
       "    .dataframe tbody tr th:only-of-type {\n",
       "        vertical-align: middle;\n",
       "    }\n",
       "\n",
       "    .dataframe tbody tr th {\n",
       "        vertical-align: top;\n",
       "    }\n",
       "\n",
       "    .dataframe thead th {\n",
       "        text-align: right;\n",
       "    }\n",
       "</style>\n",
       "<table border=\"1\" class=\"dataframe\">\n",
       "  <thead>\n",
       "    <tr style=\"text-align: right;\">\n",
       "      <th></th>\n",
       "      <th>doi</th>\n",
       "      <th>title</th>\n",
       "      <th>subtypeDescription</th>\n",
       "      <th>creator</th>\n",
       "      <th>affiliation_city</th>\n",
       "      <th>affiliation_country</th>\n",
       "      <th>author_count</th>\n",
       "      <th>author_names</th>\n",
       "      <th>author_ids</th>\n",
       "      <th>coverDate</th>\n",
       "      <th>coverDisplayDate</th>\n",
       "      <th>publicationName</th>\n",
       "      <th>issn</th>\n",
       "      <th>description</th>\n",
       "      <th>authkeywords</th>\n",
       "      <th>creator_id</th>\n",
       "    </tr>\n",
       "  </thead>\n",
       "  <tbody>\n",
       "    <tr>\n",
       "      <th>0</th>\n",
       "      <td>10.1016/j.apgeog.2023.103145</td>\n",
       "      <td>Trapped in dilemma: Inverted N-shaped EKC evid...</td>\n",
       "      <td>Article</td>\n",
       "      <td>Huang J.</td>\n",
       "      <td>Beijing;Hong Kong</td>\n",
       "      <td>China;Hong Kong</td>\n",
       "      <td>6</td>\n",
       "      <td>Huang, Jing;Zhang, Dong;Zhang, Zhengfeng;Kong,...</td>\n",
       "      <td>57382814800;57221284350;55774175000;5868965180...</td>\n",
       "      <td>2023-12-01</td>\n",
       "      <td>December 2023</td>\n",
       "      <td>Applied Geography</td>\n",
       "      <td>01436228</td>\n",
       "      <td>The environmental Kuznets relationship between...</td>\n",
       "      <td>Ecological land | Economic growth | Inverted N...</td>\n",
       "      <td>57382814800</td>\n",
       "    </tr>\n",
       "    <tr>\n",
       "      <th>1</th>\n",
       "      <td>10.1016/j.apgeog.2023.103136</td>\n",
       "      <td>Finding home: Participatory geospatial mapping...</td>\n",
       "      <td>Article</td>\n",
       "      <td>Al-haddad R.E.</td>\n",
       "      <td>Ukhiya;Tucson</td>\n",
       "      <td>Bangladesh;United States</td>\n",
       "      <td>2</td>\n",
       "      <td>Al-haddad, Robin Elizabeth;Rakshit, Pradipto V...</td>\n",
       "      <td>57220131060;57776198000</td>\n",
       "      <td>2023-12-01</td>\n",
       "      <td>December 2023</td>\n",
       "      <td>Applied Geography</td>\n",
       "      <td>01436228</td>\n",
       "      <td>Despite decades of using community-based parti...</td>\n",
       "      <td>Geo-positioning | Geographic oppression | Part...</td>\n",
       "      <td>57220131060</td>\n",
       "    </tr>\n",
       "    <tr>\n",
       "      <th>2</th>\n",
       "      <td>10.1016/j.apgeog.2023.103122</td>\n",
       "      <td>Diffusion of the Internet-of-Things (IoT): A f...</td>\n",
       "      <td>Article</td>\n",
       "      <td>Jamme H.T.</td>\n",
       "      <td>Tempe</td>\n",
       "      <td>United States</td>\n",
       "      <td>2</td>\n",
       "      <td>Jamme, Huê Tâm;Connor, Dylan S.</td>\n",
       "      <td>57203571610;55215499600</td>\n",
       "      <td>2023-12-01</td>\n",
       "      <td>December 2023</td>\n",
       "      <td>Applied Geography</td>\n",
       "      <td>01436228</td>\n",
       "      <td>Internet-of-Things (IoT) innovations are recon...</td>\n",
       "      <td>Community change | France | Internet of Things...</td>\n",
       "      <td>57203571610</td>\n",
       "    </tr>\n",
       "    <tr>\n",
       "      <th>3</th>\n",
       "      <td>10.1016/j.apgeog.2023.103142</td>\n",
       "      <td>A multi-level framework for assessing the spat...</td>\n",
       "      <td>Article</td>\n",
       "      <td>Dong J.</td>\n",
       "      <td>Beijing</td>\n",
       "      <td>China</td>\n",
       "      <td>5</td>\n",
       "      <td>Dong, Junwu;Wang, Yanhui;Yang, Yang;Luo, Xiaoy...</td>\n",
       "      <td>57565840500;56066264400;57225057111;5733714420...</td>\n",
       "      <td>2023-12-01</td>\n",
       "      <td>December 2023</td>\n",
       "      <td>Applied Geography</td>\n",
       "      <td>01436228</td>\n",
       "      <td>Rapid urbanization is reducing the limited urb...</td>\n",
       "      <td>Accessibility | Public spaces | SDG 11.7.1 | S...</td>\n",
       "      <td>57565840500</td>\n",
       "    </tr>\n",
       "    <tr>\n",
       "      <th>4</th>\n",
       "      <td>10.1016/j.apgeog.2023.103140</td>\n",
       "      <td>Urbanization shifts freshwater service flows i...</td>\n",
       "      <td>Article</td>\n",
       "      <td>Shen W.</td>\n",
       "      <td>Guangzhou</td>\n",
       "      <td>China</td>\n",
       "      <td>2</td>\n",
       "      <td>Shen, Wenting;Liu, Zhenhuan</td>\n",
       "      <td>58675798400;55585649300</td>\n",
       "      <td>2023-12-01</td>\n",
       "      <td>December 2023</td>\n",
       "      <td>Applied Geography</td>\n",
       "      <td>01436228</td>\n",
       "      <td>Freshwater ecosystem services supply and deman...</td>\n",
       "      <td>Freshwater ecosystem service flow | Social-eco...</td>\n",
       "      <td>58675798400</td>\n",
       "    </tr>\n",
       "  </tbody>\n",
       "</table>\n",
       "</div>"
      ],
      "text/plain": [
       "                            doi  \\\n",
       "0  10.1016/j.apgeog.2023.103145   \n",
       "1  10.1016/j.apgeog.2023.103136   \n",
       "2  10.1016/j.apgeog.2023.103122   \n",
       "3  10.1016/j.apgeog.2023.103142   \n",
       "4  10.1016/j.apgeog.2023.103140   \n",
       "\n",
       "                                               title subtypeDescription  \\\n",
       "0  Trapped in dilemma: Inverted N-shaped EKC evid...            Article   \n",
       "1  Finding home: Participatory geospatial mapping...            Article   \n",
       "2  Diffusion of the Internet-of-Things (IoT): A f...            Article   \n",
       "3  A multi-level framework for assessing the spat...            Article   \n",
       "4  Urbanization shifts freshwater service flows i...            Article   \n",
       "\n",
       "          creator   affiliation_city       affiliation_country author_count  \\\n",
       "0        Huang J.  Beijing;Hong Kong           China;Hong Kong            6   \n",
       "1  Al-haddad R.E.      Ukhiya;Tucson  Bangladesh;United States            2   \n",
       "2      Jamme H.T.              Tempe             United States            2   \n",
       "3         Dong J.            Beijing                     China            5   \n",
       "4         Shen W.          Guangzhou                     China            2   \n",
       "\n",
       "                                        author_names  \\\n",
       "0  Huang, Jing;Zhang, Dong;Zhang, Zhengfeng;Kong,...   \n",
       "1  Al-haddad, Robin Elizabeth;Rakshit, Pradipto V...   \n",
       "2                    Jamme, Huê Tâm;Connor, Dylan S.   \n",
       "3  Dong, Junwu;Wang, Yanhui;Yang, Yang;Luo, Xiaoy...   \n",
       "4                        Shen, Wenting;Liu, Zhenhuan   \n",
       "\n",
       "                                          author_ids   coverDate  \\\n",
       "0  57382814800;57221284350;55774175000;5868965180...  2023-12-01   \n",
       "1                            57220131060;57776198000  2023-12-01   \n",
       "2                            57203571610;55215499600  2023-12-01   \n",
       "3  57565840500;56066264400;57225057111;5733714420...  2023-12-01   \n",
       "4                            58675798400;55585649300  2023-12-01   \n",
       "\n",
       "  coverDisplayDate    publicationName      issn  \\\n",
       "0    December 2023  Applied Geography  01436228   \n",
       "1    December 2023  Applied Geography  01436228   \n",
       "2    December 2023  Applied Geography  01436228   \n",
       "3    December 2023  Applied Geography  01436228   \n",
       "4    December 2023  Applied Geography  01436228   \n",
       "\n",
       "                                         description  \\\n",
       "0  The environmental Kuznets relationship between...   \n",
       "1  Despite decades of using community-based parti...   \n",
       "2  Internet-of-Things (IoT) innovations are recon...   \n",
       "3  Rapid urbanization is reducing the limited urb...   \n",
       "4  Freshwater ecosystem services supply and deman...   \n",
       "\n",
       "                                        authkeywords   creator_id  \n",
       "0  Ecological land | Economic growth | Inverted N...  57382814800  \n",
       "1  Geo-positioning | Geographic oppression | Part...  57220131060  \n",
       "2  Community change | France | Internet of Things...  57203571610  \n",
       "3  Accessibility | Public spaces | SDG 11.7.1 | S...  57565840500  \n",
       "4  Freshwater ecosystem service flow | Social-eco...  58675798400  "
      ]
     },
     "execution_count": 63,
     "metadata": {},
     "output_type": "execute_result"
    }
   ],
   "source": [
    "# Overview of data\n",
    "scopus_api_df.head(5)"
   ]
  },
  {
   "cell_type": "code",
   "execution_count": 64,
   "metadata": {},
   "outputs": [
    {
     "name": "stdout",
     "output_type": "stream",
     "text": [
      "The total number of extracted articles is 13878\n"
     ]
    }
   ],
   "source": [
    "# Checking lenght of df\n",
    "\n",
    "print(\"The total number of extracted articles is\", len(scopus_api_df))"
   ]
  },
  {
   "cell_type": "code",
   "execution_count": 65,
   "metadata": {},
   "outputs": [
    {
     "name": "stdout",
     "output_type": "stream",
     "text": [
      "doi                       0\n",
      "title                     0\n",
      "subtypeDescription        0\n",
      "creator                   0\n",
      "affiliation_city         56\n",
      "affiliation_country      56\n",
      "author_count              0\n",
      "author_names              0\n",
      "author_ids                0\n",
      "coverDate                 0\n",
      "coverDisplayDate          0\n",
      "publicationName           0\n",
      "issn                   4685\n",
      "description             284\n",
      "authkeywords           1245\n",
      "creator_id                0\n",
      "dtype: int64\n"
     ]
    }
   ],
   "source": [
    "# Check for missing values in each column\n",
    "print(scopus_api_df.isnull().sum())"
   ]
  },
  {
   "cell_type": "markdown",
   "metadata": {},
   "source": [
    "The results below show the number of rows with multiple values in the columns \"affiliation_city\" and \" affiliation_country\". "
   ]
  },
  {
   "cell_type": "code",
   "execution_count": 66,
   "metadata": {},
   "outputs": [
    {
     "data": {
      "text/plain": [
       "{'affiliation_city': 9186, 'affiliation_country': 9186}"
      ]
     },
     "execution_count": 66,
     "metadata": {},
     "output_type": "execute_result"
    }
   ],
   "source": [
    "# Checking for rows with more than one value in the specified columns\n",
    "columns_to_check = ['affiliation_city', 'affiliation_country']\n",
    "\n",
    "# Create a dictionary to store the count of rows with multiple values for each column\n",
    "multiple_values_count = {}\n",
    "\n",
    "# Iterate through the columns and count rows with more than one value\n",
    "for column in columns_to_check:\n",
    "    multiple_values_count[column] = scopus_api_df[scopus_api_df[column].str.contains(';', na=False)].shape[0]\n",
    "\n",
    "# Display the counts\n",
    "multiple_values_count"
   ]
  },
  {
   "cell_type": "markdown",
   "metadata": {},
   "source": [
    "The code below extracts details of the authors using the Author_Search API, searching by the first author ID number. The code then generates a new dataframe \"affiliation_df\". This dataframe and the original dataframe can then be merged with a left joint and the author's details can be replaced accordingly. "
   ]
  },
  {
   "cell_type": "code",
   "execution_count": 67,
   "metadata": {},
   "outputs": [
    {
     "name": "stderr",
     "output_type": "stream",
     "text": [
      "Processing authors: 100%|██████████| 10441/10441 [00:03<00:00, 2900.57it/s]\n"
     ]
    }
   ],
   "source": [
    "# note: the default weekly quota for AuthorSearch is 5,000. Elsevier support extended it to 15,000 for my API key. \n",
    "# Initialise a list to store the extracted information\n",
    "affiliation_details = []\n",
    "\n",
    "# Unique creator_id values\n",
    "unique_creator_ids = scopus_api_df['creator_id'].dropna().unique()\n",
    "\n",
    "# Iterate through each author ID in the DataFrame\n",
    "for author_id in tqdm(unique_creator_ids, desc=\"Processing authors\"):\n",
    "    try:\n",
    "        # Perform the AuthorSearch\n",
    "        search = AuthorSearch(f'AU-ID({author_id})', download=True, refresh=180)\n",
    "        \n",
    "        # Extract the required information if the author is found\n",
    "        if search.authors:\n",
    "            author_info = search.authors[0]  # There should be one match only\n",
    "            affiliation_details.append({\n",
    "                'author_id': author_id,\n",
    "                'city': author_info.city,\n",
    "                'country': author_info.country\n",
    "            })\n",
    "        else:\n",
    "            affiliation_details.append({\n",
    "                'author_id': author_id,\n",
    "                'city': np.nan,\n",
    "                'country': np.nan\n",
    "            })\n",
    "    except Exception as e:\n",
    "        print(f\"An error occurred while processing author ID {author_id}: {e}\")\n",
    "\n",
    "# Convert the list to a DataFrame\n",
    "affiliation_df = pd.DataFrame(affiliation_details)\n",
    "\n",
    "# Rename ID column\n",
    "affiliation_df.rename(columns={'author_id': 'creator_id'}, inplace=True)\n",
    "\n"
   ]
  },
  {
   "cell_type": "code",
   "execution_count": 68,
   "metadata": {},
   "outputs": [
    {
     "data": {
      "text/html": [
       "<div>\n",
       "<style scoped>\n",
       "    .dataframe tbody tr th:only-of-type {\n",
       "        vertical-align: middle;\n",
       "    }\n",
       "\n",
       "    .dataframe tbody tr th {\n",
       "        vertical-align: top;\n",
       "    }\n",
       "\n",
       "    .dataframe thead th {\n",
       "        text-align: right;\n",
       "    }\n",
       "</style>\n",
       "<table border=\"1\" class=\"dataframe\">\n",
       "  <thead>\n",
       "    <tr style=\"text-align: right;\">\n",
       "      <th></th>\n",
       "      <th>creator_id</th>\n",
       "      <th>city</th>\n",
       "      <th>country</th>\n",
       "    </tr>\n",
       "  </thead>\n",
       "  <tbody>\n",
       "    <tr>\n",
       "      <th>0</th>\n",
       "      <td>57382814800</td>\n",
       "      <td>Beijing</td>\n",
       "      <td>China</td>\n",
       "    </tr>\n",
       "    <tr>\n",
       "      <th>1</th>\n",
       "      <td>57220131060</td>\n",
       "      <td>Tucson</td>\n",
       "      <td>United States</td>\n",
       "    </tr>\n",
       "    <tr>\n",
       "      <th>2</th>\n",
       "      <td>57203571610</td>\n",
       "      <td>Tempe</td>\n",
       "      <td>United States</td>\n",
       "    </tr>\n",
       "    <tr>\n",
       "      <th>3</th>\n",
       "      <td>57565840500</td>\n",
       "      <td>Beijing</td>\n",
       "      <td>China</td>\n",
       "    </tr>\n",
       "    <tr>\n",
       "      <th>4</th>\n",
       "      <td>58675798400</td>\n",
       "      <td>Guangzhou</td>\n",
       "      <td>China</td>\n",
       "    </tr>\n",
       "  </tbody>\n",
       "</table>\n",
       "</div>"
      ],
      "text/plain": [
       "    creator_id       city        country\n",
       "0  57382814800    Beijing          China\n",
       "1  57220131060     Tucson  United States\n",
       "2  57203571610      Tempe  United States\n",
       "3  57565840500    Beijing          China\n",
       "4  58675798400  Guangzhou          China"
      ]
     },
     "execution_count": 68,
     "metadata": {},
     "output_type": "execute_result"
    }
   ],
   "source": [
    "affiliation_df.head(5)"
   ]
  },
  {
   "cell_type": "markdown",
   "metadata": {},
   "source": [
    "Now there are no rows with multiple values in the columns \"city\" or \"country\"."
   ]
  },
  {
   "cell_type": "code",
   "execution_count": 69,
   "metadata": {},
   "outputs": [
    {
     "data": {
      "text/plain": [
       "{'city': 0, 'country': 0}"
      ]
     },
     "execution_count": 69,
     "metadata": {},
     "output_type": "execute_result"
    }
   ],
   "source": [
    "# Checking for rows with more than one value in the specified columns\n",
    "columns_to_check2 = ['city', 'country']\n",
    "\n",
    "# Create a dictionary to store the count of rows with multiple values for each column\n",
    "multiple_values_count2 = {}\n",
    "\n",
    "# Iterate through the columns and count rows with more than one value\n",
    "for column in columns_to_check2:\n",
    "    multiple_values_count2[column] = affiliation_df[affiliation_df[column].str.contains(';', na=False)].shape[0]\n",
    "\n",
    "# Display the counts\n",
    "multiple_values_count2"
   ]
  },
  {
   "cell_type": "code",
   "execution_count": 70,
   "metadata": {},
   "outputs": [
    {
     "data": {
      "text/html": [
       "<div>\n",
       "<style scoped>\n",
       "    .dataframe tbody tr th:only-of-type {\n",
       "        vertical-align: middle;\n",
       "    }\n",
       "\n",
       "    .dataframe tbody tr th {\n",
       "        vertical-align: top;\n",
       "    }\n",
       "\n",
       "    .dataframe thead th {\n",
       "        text-align: right;\n",
       "    }\n",
       "</style>\n",
       "<table border=\"1\" class=\"dataframe\">\n",
       "  <thead>\n",
       "    <tr style=\"text-align: right;\">\n",
       "      <th></th>\n",
       "      <th>doi</th>\n",
       "      <th>title</th>\n",
       "      <th>subtypeDescription</th>\n",
       "      <th>creator</th>\n",
       "      <th>affiliation_city</th>\n",
       "      <th>affiliation_country</th>\n",
       "      <th>author_count</th>\n",
       "      <th>author_names</th>\n",
       "      <th>author_ids</th>\n",
       "      <th>coverDate</th>\n",
       "      <th>coverDisplayDate</th>\n",
       "      <th>publicationName</th>\n",
       "      <th>issn</th>\n",
       "      <th>description</th>\n",
       "      <th>authkeywords</th>\n",
       "      <th>creator_id</th>\n",
       "    </tr>\n",
       "  </thead>\n",
       "  <tbody>\n",
       "    <tr>\n",
       "      <th>0</th>\n",
       "      <td>10.1016/j.apgeog.2023.103145</td>\n",
       "      <td>Trapped in dilemma: Inverted N-shaped EKC evid...</td>\n",
       "      <td>Article</td>\n",
       "      <td>Huang J.</td>\n",
       "      <td>Beijing</td>\n",
       "      <td>China</td>\n",
       "      <td>6</td>\n",
       "      <td>Huang, Jing;Zhang, Dong;Zhang, Zhengfeng;Kong,...</td>\n",
       "      <td>57382814800;57221284350;55774175000;5868965180...</td>\n",
       "      <td>2023-12-01</td>\n",
       "      <td>December 2023</td>\n",
       "      <td>Applied Geography</td>\n",
       "      <td>01436228</td>\n",
       "      <td>The environmental Kuznets relationship between...</td>\n",
       "      <td>Ecological land | Economic growth | Inverted N...</td>\n",
       "      <td>57382814800</td>\n",
       "    </tr>\n",
       "    <tr>\n",
       "      <th>1</th>\n",
       "      <td>10.1016/j.apgeog.2023.103136</td>\n",
       "      <td>Finding home: Participatory geospatial mapping...</td>\n",
       "      <td>Article</td>\n",
       "      <td>Al-haddad R.E.</td>\n",
       "      <td>Tucson</td>\n",
       "      <td>United States</td>\n",
       "      <td>2</td>\n",
       "      <td>Al-haddad, Robin Elizabeth;Rakshit, Pradipto V...</td>\n",
       "      <td>57220131060;57776198000</td>\n",
       "      <td>2023-12-01</td>\n",
       "      <td>December 2023</td>\n",
       "      <td>Applied Geography</td>\n",
       "      <td>01436228</td>\n",
       "      <td>Despite decades of using community-based parti...</td>\n",
       "      <td>Geo-positioning | Geographic oppression | Part...</td>\n",
       "      <td>57220131060</td>\n",
       "    </tr>\n",
       "    <tr>\n",
       "      <th>2</th>\n",
       "      <td>10.1016/j.apgeog.2023.103122</td>\n",
       "      <td>Diffusion of the Internet-of-Things (IoT): A f...</td>\n",
       "      <td>Article</td>\n",
       "      <td>Jamme H.T.</td>\n",
       "      <td>Tempe</td>\n",
       "      <td>United States</td>\n",
       "      <td>2</td>\n",
       "      <td>Jamme, Huê Tâm;Connor, Dylan S.</td>\n",
       "      <td>57203571610;55215499600</td>\n",
       "      <td>2023-12-01</td>\n",
       "      <td>December 2023</td>\n",
       "      <td>Applied Geography</td>\n",
       "      <td>01436228</td>\n",
       "      <td>Internet-of-Things (IoT) innovations are recon...</td>\n",
       "      <td>Community change | France | Internet of Things...</td>\n",
       "      <td>57203571610</td>\n",
       "    </tr>\n",
       "    <tr>\n",
       "      <th>3</th>\n",
       "      <td>10.1016/j.apgeog.2023.103142</td>\n",
       "      <td>A multi-level framework for assessing the spat...</td>\n",
       "      <td>Article</td>\n",
       "      <td>Dong J.</td>\n",
       "      <td>Beijing</td>\n",
       "      <td>China</td>\n",
       "      <td>5</td>\n",
       "      <td>Dong, Junwu;Wang, Yanhui;Yang, Yang;Luo, Xiaoy...</td>\n",
       "      <td>57565840500;56066264400;57225057111;5733714420...</td>\n",
       "      <td>2023-12-01</td>\n",
       "      <td>December 2023</td>\n",
       "      <td>Applied Geography</td>\n",
       "      <td>01436228</td>\n",
       "      <td>Rapid urbanization is reducing the limited urb...</td>\n",
       "      <td>Accessibility | Public spaces | SDG 11.7.1 | S...</td>\n",
       "      <td>57565840500</td>\n",
       "    </tr>\n",
       "    <tr>\n",
       "      <th>4</th>\n",
       "      <td>10.1016/j.apgeog.2023.103140</td>\n",
       "      <td>Urbanization shifts freshwater service flows i...</td>\n",
       "      <td>Article</td>\n",
       "      <td>Shen W.</td>\n",
       "      <td>Guangzhou</td>\n",
       "      <td>China</td>\n",
       "      <td>2</td>\n",
       "      <td>Shen, Wenting;Liu, Zhenhuan</td>\n",
       "      <td>58675798400;55585649300</td>\n",
       "      <td>2023-12-01</td>\n",
       "      <td>December 2023</td>\n",
       "      <td>Applied Geography</td>\n",
       "      <td>01436228</td>\n",
       "      <td>Freshwater ecosystem services supply and deman...</td>\n",
       "      <td>Freshwater ecosystem service flow | Social-eco...</td>\n",
       "      <td>58675798400</td>\n",
       "    </tr>\n",
       "  </tbody>\n",
       "</table>\n",
       "</div>"
      ],
      "text/plain": [
       "                            doi  \\\n",
       "0  10.1016/j.apgeog.2023.103145   \n",
       "1  10.1016/j.apgeog.2023.103136   \n",
       "2  10.1016/j.apgeog.2023.103122   \n",
       "3  10.1016/j.apgeog.2023.103142   \n",
       "4  10.1016/j.apgeog.2023.103140   \n",
       "\n",
       "                                               title subtypeDescription  \\\n",
       "0  Trapped in dilemma: Inverted N-shaped EKC evid...            Article   \n",
       "1  Finding home: Participatory geospatial mapping...            Article   \n",
       "2  Diffusion of the Internet-of-Things (IoT): A f...            Article   \n",
       "3  A multi-level framework for assessing the spat...            Article   \n",
       "4  Urbanization shifts freshwater service flows i...            Article   \n",
       "\n",
       "          creator affiliation_city affiliation_country author_count  \\\n",
       "0        Huang J.          Beijing               China            6   \n",
       "1  Al-haddad R.E.           Tucson       United States            2   \n",
       "2      Jamme H.T.            Tempe       United States            2   \n",
       "3         Dong J.          Beijing               China            5   \n",
       "4         Shen W.        Guangzhou               China            2   \n",
       "\n",
       "                                        author_names  \\\n",
       "0  Huang, Jing;Zhang, Dong;Zhang, Zhengfeng;Kong,...   \n",
       "1  Al-haddad, Robin Elizabeth;Rakshit, Pradipto V...   \n",
       "2                    Jamme, Huê Tâm;Connor, Dylan S.   \n",
       "3  Dong, Junwu;Wang, Yanhui;Yang, Yang;Luo, Xiaoy...   \n",
       "4                        Shen, Wenting;Liu, Zhenhuan   \n",
       "\n",
       "                                          author_ids   coverDate  \\\n",
       "0  57382814800;57221284350;55774175000;5868965180...  2023-12-01   \n",
       "1                            57220131060;57776198000  2023-12-01   \n",
       "2                            57203571610;55215499600  2023-12-01   \n",
       "3  57565840500;56066264400;57225057111;5733714420...  2023-12-01   \n",
       "4                            58675798400;55585649300  2023-12-01   \n",
       "\n",
       "  coverDisplayDate    publicationName      issn  \\\n",
       "0    December 2023  Applied Geography  01436228   \n",
       "1    December 2023  Applied Geography  01436228   \n",
       "2    December 2023  Applied Geography  01436228   \n",
       "3    December 2023  Applied Geography  01436228   \n",
       "4    December 2023  Applied Geography  01436228   \n",
       "\n",
       "                                         description  \\\n",
       "0  The environmental Kuznets relationship between...   \n",
       "1  Despite decades of using community-based parti...   \n",
       "2  Internet-of-Things (IoT) innovations are recon...   \n",
       "3  Rapid urbanization is reducing the limited urb...   \n",
       "4  Freshwater ecosystem services supply and deman...   \n",
       "\n",
       "                                        authkeywords   creator_id  \n",
       "0  Ecological land | Economic growth | Inverted N...  57382814800  \n",
       "1  Geo-positioning | Geographic oppression | Part...  57220131060  \n",
       "2  Community change | France | Internet of Things...  57203571610  \n",
       "3  Accessibility | Public spaces | SDG 11.7.1 | S...  57565840500  \n",
       "4  Freshwater ecosystem service flow | Social-eco...  58675798400  "
      ]
     },
     "execution_count": 70,
     "metadata": {},
     "output_type": "execute_result"
    }
   ],
   "source": [
    "# Merge the two dataframes\n",
    "merged_df = scopus_api_df.merge(affiliation_df, on='creator_id', how='left')\n",
    "\n",
    "# Update of details based on merged_df\n",
    "scopus_api_df['affiliation_city'] = merged_df['city']\n",
    "scopus_api_df['affiliation_country'] = merged_df['country']\n",
    "\n",
    "scopus_api_df.head(5)"
   ]
  },
  {
   "cell_type": "code",
   "execution_count": 71,
   "metadata": {},
   "outputs": [
    {
     "data": {
      "text/plain": [
       "13878"
      ]
     },
     "execution_count": 71,
     "metadata": {},
     "output_type": "execute_result"
    }
   ],
   "source": [
    "# Checking the length of the dataframe to ensure that it has not changed\n",
    "len(scopus_api_df)"
   ]
  },
  {
   "cell_type": "markdown",
   "metadata": {},
   "source": [
    "Once the dataframes are joined and the data is replaced, there are no rows with multiple affiliation countries and cities."
   ]
  },
  {
   "cell_type": "code",
   "execution_count": 72,
   "metadata": {},
   "outputs": [
    {
     "data": {
      "text/plain": [
       "{'affiliation_city': 0, 'affiliation_country': 0}"
      ]
     },
     "execution_count": 72,
     "metadata": {},
     "output_type": "execute_result"
    }
   ],
   "source": [
    "# Checking for rows with more than one value in the specified columns\n",
    "columns_to_check = ['affiliation_city', 'affiliation_country']\n",
    "\n",
    "# Create a dictionary to store the count of rows with multiple values for each column\n",
    "multiple_values_count = {}\n",
    "\n",
    "# Iterate through the columns and count rows with more than one value\n",
    "for column in columns_to_check:\n",
    "    multiple_values_count[column] = scopus_api_df[scopus_api_df[column].str.contains(';', na=False)].shape[0]\n",
    "\n",
    "# Display the counts\n",
    "multiple_values_count"
   ]
  },
  {
   "cell_type": "code",
   "execution_count": 73,
   "metadata": {},
   "outputs": [],
   "source": [
    "# Export df to json file\n",
    "scopus_api_df.to_json('scopus_api_top10.json', orient='records', lines=True)"
   ]
  },
  {
   "cell_type": "markdown",
   "metadata": {},
   "source": [
    "#### Read in json file"
   ]
  },
  {
   "cell_type": "code",
   "execution_count": null,
   "metadata": {},
   "outputs": [],
   "source": [
    "# Read Scopus .json file\n",
    "scopus_api_df = pd.read_json('scopus_api_top10.json', orient='records', lines=True)"
   ]
  }
 ],
 "metadata": {
  "kernelspec": {
   "display_name": "base",
   "language": "python",
   "name": "python3"
  },
  "language_info": {
   "codemirror_mode": {
    "name": "ipython",
    "version": 3
   },
   "file_extension": ".py",
   "mimetype": "text/x-python",
   "name": "python",
   "nbconvert_exporter": "python",
   "pygments_lexer": "ipython3",
   "version": "3.11.7"
  }
 },
 "nbformat": 4,
 "nbformat_minor": 2
}
