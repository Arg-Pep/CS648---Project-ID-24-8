{
 "cells": [
  {
   "cell_type": "code",
   "execution_count": 1,
   "metadata": {},
   "outputs": [
    {
     "name": "stdout",
     "output_type": "stream",
     "text": [
      "Requirement already satisfied: pybliometrics in c:\\users\\fszeliga\\anaconda3\\lib\\site-packages (4.0)\n",
      "Requirement already satisfied: requests in c:\\users\\fszeliga\\anaconda3\\lib\\site-packages (from pybliometrics) (2.31.0)\n",
      "Requirement already satisfied: tqdm in c:\\users\\fszeliga\\anaconda3\\lib\\site-packages (from pybliometrics) (4.65.0)\n",
      "Requirement already satisfied: urllib3 in c:\\users\\fszeliga\\anaconda3\\lib\\site-packages (from pybliometrics) (2.0.7)\n",
      "Requirement already satisfied: charset-normalizer<4,>=2 in c:\\users\\fszeliga\\anaconda3\\lib\\site-packages (from requests->pybliometrics) (2.0.4)\n",
      "Requirement already satisfied: idna<4,>=2.5 in c:\\users\\fszeliga\\anaconda3\\lib\\site-packages (from requests->pybliometrics) (3.4)\n",
      "Requirement already satisfied: certifi>=2017.4.17 in c:\\users\\fszeliga\\anaconda3\\lib\\site-packages (from requests->pybliometrics) (2024.2.2)\n",
      "Requirement already satisfied: colorama in c:\\users\\fszeliga\\anaconda3\\lib\\site-packages (from tqdm->pybliometrics) (0.4.6)\n",
      "Note: you may need to restart the kernel to use updated packages.\n"
     ]
    }
   ],
   "source": [
    "pip install pybliometrics"
   ]
  },
  {
   "cell_type": "code",
   "execution_count": 2,
   "metadata": {},
   "outputs": [],
   "source": [
    "# library configuration: https://pybliometrics.readthedocs.io/en/latest/configuration.html\n",
    "# The first time init() is run there will be a prompt to input the key and instoken\n",
    "# API Key: 4fec016525bc7cf8febea7c81db45976\n",
    "# Instoken: 03a9e22c2f85af0fcdd7f9415998446b\n",
    "\n",
    "\n",
    "import pybliometrics\n",
    "\n",
    "pybliometrics.scopus.init()\n"
   ]
  },
  {
   "cell_type": "code",
   "execution_count": 3,
   "metadata": {},
   "outputs": [
    {
     "data": {
      "text/plain": [
       "WindowsPath('C:/Users/FSzeliga/.config/pybliometrics.cfg')"
      ]
     },
     "execution_count": 3,
     "metadata": {},
     "output_type": "execute_result"
    }
   ],
   "source": [
    "# Line of code to check where the configuration file is saved\n",
    "\n",
    "pybliometrics.scopus.utils.constants.CONFIG_FILE"
   ]
  },
  {
   "cell_type": "code",
   "execution_count": 1,
   "metadata": {},
   "outputs": [],
   "source": [
    "# Import pacakages\n",
    "\n",
    "from pybliometrics.scopus import ScopusSearch\n",
    "from pybliometrics.scopus import AuthorSearch\n",
    "import pandas as pd\n",
    "import json\n",
    "from tqdm import tqdm\n",
    "import psycopg\n",
    "import matplotlib.pyplot as plt\n",
    "import matplotlib.cm as cm\n",
    "import seaborn as sns\n",
    "import numpy as np"
   ]
  },
  {
   "cell_type": "code",
   "execution_count": 5,
   "metadata": {},
   "outputs": [],
   "source": [
    "# set of parameters\n",
    "\n",
    "min_year = 2013\n",
    "max_year = 2023"
   ]
  },
  {
   "cell_type": "markdown",
   "metadata": {},
   "source": [
    "#### Applied Geography (APG)"
   ]
  },
  {
   "cell_type": "code",
   "execution_count": 6,
   "metadata": {},
   "outputs": [],
   "source": [
    "# Query set up and Scopus search\n",
    "\n",
    "apg_query = f'EXACTSRCTITLE(Applied+AND+Geography) AND PUBYEAR > {min_year-1} AND PUBYEAR < {max_year+1}' \n",
    "\n",
    "s1 = ScopusSearch(apg_query, verbose=True, download=True, refresh=180) # Refresh=180 means that the results will be downloaded again after 180 days (to ensure up-to-date information)\n"
   ]
  },
  {
   "cell_type": "code",
   "execution_count": 7,
   "metadata": {},
   "outputs": [
    {
     "data": {
      "text/plain": [
       "2193"
      ]
     },
     "execution_count": 7,
     "metadata": {},
     "output_type": "execute_result"
    }
   ],
   "source": [
    "# Checking length of results\n",
    "\n",
    "s1.get_results_size()"
   ]
  },
  {
   "cell_type": "code",
   "execution_count": 8,
   "metadata": {},
   "outputs": [],
   "source": [
    "# Conversion to dataframe\n",
    "\n",
    "apg_df = pd.DataFrame(s1.results)"
   ]
  },
  {
   "cell_type": "code",
   "execution_count": 9,
   "metadata": {},
   "outputs": [
    {
     "name": "stdout",
     "output_type": "stream",
     "text": [
      "The total number of unique DOI values is 2193\n",
      "The total number of unique journal titles 3\n"
     ]
    }
   ],
   "source": [
    "# Unique Values\n",
    "\n",
    "unique_doi = apg_df['doi'].unique()\n",
    "print(f\"The total number of unique DOI values is {len(unique_doi)}\")\n",
    "\n",
    "unique_journal = apg_df['publicationName'].unique()\n",
    "print(f\"The total number of unique journal titles {len(unique_journal)}\")"
   ]
  },
  {
   "cell_type": "code",
   "execution_count": 10,
   "metadata": {},
   "outputs": [
    {
     "name": "stdout",
     "output_type": "stream",
     "text": [
      "['Applied Geography' 'Papers in Applied Geography'\n",
      " 'The Black Sea from Paleogeography to Modern Navigation: Applied Maritime Geography and Oceanography']\n"
     ]
    }
   ],
   "source": [
    "# Print Journal Unique Values\n",
    "print(unique_journal)"
   ]
  },
  {
   "cell_type": "code",
   "execution_count": 11,
   "metadata": {},
   "outputs": [],
   "source": [
    "# Filter the DataFrame to keep only rows where 'journal_title' is 'Applied Geography'\n",
    "apg_df = apg_df[apg_df['publicationName'] == 'Applied Geography']"
   ]
  },
  {
   "cell_type": "code",
   "execution_count": 12,
   "metadata": {},
   "outputs": [
    {
     "data": {
      "text/plain": [
       "1916"
      ]
     },
     "execution_count": 12,
     "metadata": {},
     "output_type": "execute_result"
    }
   ],
   "source": [
    "# Final length of df\n",
    "\n",
    "len(apg_df)"
   ]
  },
  {
   "cell_type": "markdown",
   "metadata": {},
   "source": [
    "#### Cartography and Geographic Information Science (CaGIS)"
   ]
  },
  {
   "cell_type": "code",
   "execution_count": 13,
   "metadata": {},
   "outputs": [],
   "source": [
    "# Query set up and Scopus search\n",
    "\n",
    "cagis_query = f'EXACTSRCTITLE(Cartography+AND+Geographic+AND+Information+AND+Science) AND PUBYEAR > {min_year-1} AND PUBYEAR < {max_year+1}' \n",
    "\n",
    "s2 = ScopusSearch(cagis_query, verbose=True, download=True, refresh=180) # Refresh=180 means that the results will be downloaded again after 180 days (to ensure up-to-date information)"
   ]
  },
  {
   "cell_type": "code",
   "execution_count": 14,
   "metadata": {},
   "outputs": [
    {
     "data": {
      "text/plain": [
       "448"
      ]
     },
     "execution_count": 14,
     "metadata": {},
     "output_type": "execute_result"
    }
   ],
   "source": [
    "# Checking length of results\n",
    "\n",
    "s2.get_results_size()"
   ]
  },
  {
   "cell_type": "code",
   "execution_count": 15,
   "metadata": {},
   "outputs": [],
   "source": [
    "# Conversion to dataframe\n",
    "\n",
    "cagis_df = pd.DataFrame(s2.results)"
   ]
  },
  {
   "cell_type": "code",
   "execution_count": 16,
   "metadata": {},
   "outputs": [
    {
     "name": "stdout",
     "output_type": "stream",
     "text": [
      "The total number of unique DOI values is 448\n",
      "The total number of unique journal titles 1\n"
     ]
    }
   ],
   "source": [
    "# Unique Values\n",
    "\n",
    "unique_doi = cagis_df['doi'].unique()\n",
    "print(f\"The total number of unique DOI values is {len(unique_doi)}\")\n",
    "\n",
    "unique_journal = cagis_df['publicationName'].unique()\n",
    "print(f\"The total number of unique journal titles {len(unique_journal)}\")"
   ]
  },
  {
   "cell_type": "code",
   "execution_count": 17,
   "metadata": {},
   "outputs": [
    {
     "name": "stdout",
     "output_type": "stream",
     "text": [
      "['Cartography and Geographic Information Science']\n"
     ]
    }
   ],
   "source": [
    "# Print Journal Unique Values\n",
    "print(unique_journal)"
   ]
  },
  {
   "cell_type": "code",
   "execution_count": 18,
   "metadata": {},
   "outputs": [
    {
     "data": {
      "text/plain": [
       "448"
      ]
     },
     "execution_count": 18,
     "metadata": {},
     "output_type": "execute_result"
    }
   ],
   "source": [
    "# Final length of df\n",
    "\n",
    "len(cagis_df)"
   ]
  },
  {
   "cell_type": "markdown",
   "metadata": {},
   "source": [
    "#### GIScience and Remote Sensing (G&RS)"
   ]
  },
  {
   "cell_type": "code",
   "execution_count": 19,
   "metadata": {},
   "outputs": [],
   "source": [
    "# Query set up and Scopus search\n",
    "\n",
    "gandrs_query = f'EXACTSRCTITLE(GIScience+AND+Remote+AND+Sensing) AND PUBYEAR > {min_year-1} AND PUBYEAR < {max_year+1}' \n",
    "\n",
    "s3 = ScopusSearch(gandrs_query, verbose=True, download=True, refresh=180) # Refresh=180 means that the results will be downloaded again after 180 days (to ensure up-to-date information)"
   ]
  },
  {
   "cell_type": "code",
   "execution_count": 20,
   "metadata": {},
   "outputs": [
    {
     "data": {
      "text/plain": [
       "700"
      ]
     },
     "execution_count": 20,
     "metadata": {},
     "output_type": "execute_result"
    }
   ],
   "source": [
    "# Checking length of results\n",
    "\n",
    "s3.get_results_size()"
   ]
  },
  {
   "cell_type": "code",
   "execution_count": 21,
   "metadata": {},
   "outputs": [],
   "source": [
    "# Conversion to dataframe\n",
    "\n",
    "gandrs_df = pd.DataFrame(s3.results)"
   ]
  },
  {
   "cell_type": "code",
   "execution_count": 22,
   "metadata": {},
   "outputs": [
    {
     "name": "stdout",
     "output_type": "stream",
     "text": [
      "The total number of unique DOI values is 700\n",
      "The total number of unique journal titles 2\n"
     ]
    }
   ],
   "source": [
    "# Unique Values\n",
    "\n",
    "unique_doi = gandrs_df['doi'].unique()\n",
    "print(f\"The total number of unique DOI values is {len(unique_doi)}\")\n",
    "\n",
    "unique_journal = gandrs_df['publicationName'].unique()\n",
    "print(f\"The total number of unique journal titles {len(unique_journal)}\")"
   ]
  },
  {
   "cell_type": "code",
   "execution_count": 23,
   "metadata": {},
   "outputs": [
    {
     "name": "stdout",
     "output_type": "stream",
     "text": [
      "['GIScience and Remote Sensing'\n",
      " 'Remote Sensing and GIScience: Challenges and Future Directions']\n"
     ]
    }
   ],
   "source": [
    "# Print Journal Unique Values\n",
    "print(unique_journal)"
   ]
  },
  {
   "cell_type": "code",
   "execution_count": 24,
   "metadata": {},
   "outputs": [],
   "source": [
    "# Filter the DataFrame to keep only rows where 'journal_title' is 'GIScience and Remote Sensing'\n",
    "gandrs_df = gandrs_df[gandrs_df['publicationName'] == 'GIScience and Remote Sensing']"
   ]
  },
  {
   "cell_type": "code",
   "execution_count": 25,
   "metadata": {},
   "outputs": [
    {
     "data": {
      "text/plain": [
       "684"
      ]
     },
     "execution_count": 25,
     "metadata": {},
     "output_type": "execute_result"
    }
   ],
   "source": [
    "# Final length of df\n",
    "\n",
    "len(gandrs_df)"
   ]
  },
  {
   "cell_type": "markdown",
   "metadata": {},
   "source": [
    "#### International Journal of Digital Earth (IJDE)"
   ]
  },
  {
   "cell_type": "code",
   "execution_count": 26,
   "metadata": {},
   "outputs": [],
   "source": [
    "# Query set up and Scopus search\n",
    "\n",
    "ijde_query = f'EXACTSRCTITLE(International+AND+Journal+AND+of+AND+Digital+AND+Earth) AND PUBYEAR > {min_year-1} AND PUBYEAR < {max_year+1}' \n",
    "\n",
    "s4 = ScopusSearch(ijde_query, verbose=True, refresh=180) # Refresh=180 means that the results will be downloaded again after 180 days (to ensure up-to-date information)"
   ]
  },
  {
   "cell_type": "code",
   "execution_count": 27,
   "metadata": {},
   "outputs": [
    {
     "data": {
      "text/plain": [
       "992"
      ]
     },
     "execution_count": 27,
     "metadata": {},
     "output_type": "execute_result"
    }
   ],
   "source": [
    "# Checking length of results\n",
    "\n",
    "s4.get_results_size()"
   ]
  },
  {
   "cell_type": "code",
   "execution_count": 28,
   "metadata": {},
   "outputs": [],
   "source": [
    "# Conversion to dataframe\n",
    "\n",
    "ijde_df = pd.DataFrame(s4.results)"
   ]
  },
  {
   "cell_type": "code",
   "execution_count": 29,
   "metadata": {},
   "outputs": [
    {
     "name": "stdout",
     "output_type": "stream",
     "text": [
      "The total number of unique DOI values is 992\n",
      "The total number of unique journal titles 1\n"
     ]
    }
   ],
   "source": [
    "# Unique Values\n",
    "\n",
    "unique_doi = ijde_df['doi'].unique()\n",
    "print(f\"The total number of unique DOI values is {len(unique_doi)}\")\n",
    "\n",
    "unique_journal = ijde_df['publicationName'].unique()\n",
    "print(f\"The total number of unique journal titles {len(unique_journal)}\")"
   ]
  },
  {
   "cell_type": "code",
   "execution_count": 30,
   "metadata": {},
   "outputs": [
    {
     "name": "stdout",
     "output_type": "stream",
     "text": [
      "['International Journal of Digital Earth']\n"
     ]
    }
   ],
   "source": [
    "# Print Journal Unique Values\n",
    "print(unique_journal)"
   ]
  },
  {
   "cell_type": "code",
   "execution_count": 31,
   "metadata": {},
   "outputs": [
    {
     "data": {
      "text/plain": [
       "992"
      ]
     },
     "execution_count": 31,
     "metadata": {},
     "output_type": "execute_result"
    }
   ],
   "source": [
    "# Final length of df\n",
    "\n",
    "len(ijde_df)"
   ]
  },
  {
   "cell_type": "markdown",
   "metadata": {},
   "source": [
    "#### ISPRS International Journal of Geo-information (IJGI)"
   ]
  },
  {
   "cell_type": "code",
   "execution_count": 32,
   "metadata": {},
   "outputs": [],
   "source": [
    "# Query set up and Scopus search\n",
    "\n",
    "ijgi_query = f'EXACTSRCTITLE(ISPRS+AND+International+AND+Journal+AND+of+AND+Geo-information) AND PUBYEAR > {min_year-1} AND PUBYEAR < {max_year+1}' \n",
    "\n",
    "s5 = ScopusSearch(ijgi_query, verbose=True, refresh=180) # Refresh=180 means that the results will be downloaded again after 180 days (to ensure up-to-date information)"
   ]
  },
  {
   "cell_type": "code",
   "execution_count": 33,
   "metadata": {},
   "outputs": [
    {
     "data": {
      "text/plain": [
       "4690"
      ]
     },
     "execution_count": 33,
     "metadata": {},
     "output_type": "execute_result"
    }
   ],
   "source": [
    "# Checking length of results\n",
    "\n",
    "s5.get_results_size()"
   ]
  },
  {
   "cell_type": "code",
   "execution_count": 34,
   "metadata": {},
   "outputs": [],
   "source": [
    "# Conversion to dataframe\n",
    "\n",
    "ijgi_df = pd.DataFrame(s5.results)"
   ]
  },
  {
   "cell_type": "code",
   "execution_count": 35,
   "metadata": {},
   "outputs": [
    {
     "name": "stdout",
     "output_type": "stream",
     "text": [
      "The total number of unique DOI values is 4690\n",
      "The total number of unique journal titles 1\n"
     ]
    }
   ],
   "source": [
    "# Unique Values\n",
    "\n",
    "unique_doi = ijgi_df['doi'].unique()\n",
    "print(f\"The total number of unique DOI values is {len(unique_doi)}\")\n",
    "\n",
    "unique_journal = ijgi_df['publicationName'].unique()\n",
    "print(f\"The total number of unique journal titles {len(unique_journal)}\")"
   ]
  },
  {
   "cell_type": "code",
   "execution_count": 36,
   "metadata": {},
   "outputs": [
    {
     "name": "stdout",
     "output_type": "stream",
     "text": [
      "['ISPRS International Journal of Geo-Information']\n"
     ]
    }
   ],
   "source": [
    "# Print Journal Unique Values\n",
    "print(unique_journal)"
   ]
  },
  {
   "cell_type": "code",
   "execution_count": 37,
   "metadata": {},
   "outputs": [
    {
     "data": {
      "text/plain": [
       "4690"
      ]
     },
     "execution_count": 37,
     "metadata": {},
     "output_type": "execute_result"
    }
   ],
   "source": [
    "# Final length of df\n",
    "\n",
    "len(ijgi_df)"
   ]
  },
  {
   "cell_type": "markdown",
   "metadata": {},
   "source": [
    "#### International Journal of Geographical Information Science (IJGIS)"
   ]
  },
  {
   "cell_type": "code",
   "execution_count": 38,
   "metadata": {},
   "outputs": [],
   "source": [
    "# Query set up and Scopus search\n",
    "\n",
    "ijgis_query = f'EXACTSRCTITLE(International+AND+Journal+AND+of+AND+Geographical+AND+Information+AND+Science) AND PUBYEAR > {min_year-1} AND PUBYEAR < {max_year+1}' \n",
    "\n",
    "s6 = ScopusSearch(ijgis_query, verbose=True, refresh=180) # Refresh=180 means that the results will be downloaded again after 180 days (to ensure up-to-date information)"
   ]
  },
  {
   "cell_type": "code",
   "execution_count": 39,
   "metadata": {},
   "outputs": [
    {
     "data": {
      "text/plain": [
       "1264"
      ]
     },
     "execution_count": 39,
     "metadata": {},
     "output_type": "execute_result"
    }
   ],
   "source": [
    "# Checking length of results\n",
    "\n",
    "s6.get_results_size()"
   ]
  },
  {
   "cell_type": "code",
   "execution_count": 40,
   "metadata": {},
   "outputs": [],
   "source": [
    "# Conversion to dataframe\n",
    "\n",
    "ijgis_df = pd.DataFrame(s6.results)"
   ]
  },
  {
   "cell_type": "code",
   "execution_count": 41,
   "metadata": {},
   "outputs": [
    {
     "name": "stdout",
     "output_type": "stream",
     "text": [
      "The total number of unique DOI values is 1264\n",
      "The total number of unique journal titles 1\n"
     ]
    }
   ],
   "source": [
    "# Unique Values\n",
    "\n",
    "unique_doi = ijgis_df['doi'].unique()\n",
    "print(f\"The total number of unique DOI values is {len(unique_doi)}\")\n",
    "\n",
    "unique_journal = ijgis_df['publicationName'].unique()\n",
    "print(f\"The total number of unique journal titles {len(unique_journal)}\")"
   ]
  },
  {
   "cell_type": "code",
   "execution_count": 42,
   "metadata": {},
   "outputs": [
    {
     "name": "stdout",
     "output_type": "stream",
     "text": [
      "['International Journal of Geographical Information Science']\n"
     ]
    }
   ],
   "source": [
    "# Print Journal Unique Values\n",
    "print(unique_journal)"
   ]
  },
  {
   "cell_type": "code",
   "execution_count": 43,
   "metadata": {},
   "outputs": [
    {
     "data": {
      "text/plain": [
       "1264"
      ]
     },
     "execution_count": 43,
     "metadata": {},
     "output_type": "execute_result"
    }
   ],
   "source": [
    "# Final length of df\n",
    "\n",
    "len(ijgis_df)"
   ]
  },
  {
   "cell_type": "markdown",
   "metadata": {},
   "source": [
    "#### Journal of Spatial Science (JSS)"
   ]
  },
  {
   "cell_type": "code",
   "execution_count": 44,
   "metadata": {},
   "outputs": [],
   "source": [
    "# Query set up and Scopus search\n",
    "\n",
    "jss_query = f'EXACTSRCTITLE(Journal+AND+of+AND+Spatial+AND+Science) AND PUBYEAR > {min_year-1} AND PUBYEAR < {max_year+1}' \n",
    "\n",
    "s7 = ScopusSearch(jss_query, verbose=True, refresh=180) # Refresh=180 means that the results will be downloaded again after 180 days (to ensure up-to-date information)"
   ]
  },
  {
   "cell_type": "code",
   "execution_count": 45,
   "metadata": {},
   "outputs": [
    {
     "data": {
      "text/plain": [
       "493"
      ]
     },
     "execution_count": 45,
     "metadata": {},
     "output_type": "execute_result"
    }
   ],
   "source": [
    "# Checking length of results\n",
    "\n",
    "s7.get_results_size()"
   ]
  },
  {
   "cell_type": "code",
   "execution_count": 46,
   "metadata": {},
   "outputs": [],
   "source": [
    "# Conversion to dataframe\n",
    "\n",
    "jss_df = pd.DataFrame(s7.results)"
   ]
  },
  {
   "cell_type": "code",
   "execution_count": 47,
   "metadata": {},
   "outputs": [
    {
     "name": "stdout",
     "output_type": "stream",
     "text": [
      "The total number of unique DOI values is 493\n",
      "The total number of unique journal titles 2\n"
     ]
    }
   ],
   "source": [
    "# Unique Values\n",
    "\n",
    "unique_doi = jss_df['doi'].unique()\n",
    "print(f\"The total number of unique DOI values is {len(unique_doi)}\")\n",
    "\n",
    "unique_journal = jss_df['publicationName'].unique()\n",
    "print(f\"The total number of unique journal titles {len(unique_journal)}\")"
   ]
  },
  {
   "cell_type": "code",
   "execution_count": 48,
   "metadata": {},
   "outputs": [
    {
     "name": "stdout",
     "output_type": "stream",
     "text": [
      "['Journal of Spatial Information Science' 'Journal of Spatial Science']\n"
     ]
    }
   ],
   "source": [
    "# Print Journal Unique Values\n",
    "print(unique_journal)"
   ]
  },
  {
   "cell_type": "code",
   "execution_count": 49,
   "metadata": {},
   "outputs": [],
   "source": [
    "# Filter the DataFrame to keep only rows where 'journal_title' is 'Journal of Spatial Science'\n",
    "jss_df = jss_df[jss_df['publicationName'] == 'Journal of Spatial Science']"
   ]
  },
  {
   "cell_type": "code",
   "execution_count": 50,
   "metadata": {},
   "outputs": [
    {
     "data": {
      "text/plain": [
       "351"
      ]
     },
     "execution_count": 50,
     "metadata": {},
     "output_type": "execute_result"
    }
   ],
   "source": [
    "# Final length of df\n",
    "\n",
    "len(jss_df)"
   ]
  },
  {
   "cell_type": "markdown",
   "metadata": {},
   "source": [
    "#### ISPRS Journal of Photogrammetry and Remote Sensing (P&RS)"
   ]
  },
  {
   "cell_type": "code",
   "execution_count": 51,
   "metadata": {},
   "outputs": [],
   "source": [
    "# Query set up and Scopus search\n",
    "\n",
    "pandrs_query = f'EXACTSRCTITLE(ISPRS+AND+Journal+AND+of+AND+Photogrammetry+AND+Remote+AND+Sensing) AND PUBYEAR > {min_year-1} AND PUBYEAR < {max_year+1}' \n",
    "\n",
    "s8 = ScopusSearch(pandrs_query, verbose=True, refresh=180) # Refresh=180 means that the results will be downloaded again after 180 days (to ensure up-to-date information)"
   ]
  },
  {
   "cell_type": "code",
   "execution_count": 52,
   "metadata": {},
   "outputs": [
    {
     "data": {
      "text/plain": [
       "2481"
      ]
     },
     "execution_count": 52,
     "metadata": {},
     "output_type": "execute_result"
    }
   ],
   "source": [
    "# Checking length of results\n",
    "\n",
    "s8.get_results_size()"
   ]
  },
  {
   "cell_type": "code",
   "execution_count": 53,
   "metadata": {},
   "outputs": [],
   "source": [
    "# Conversion to dataframe\n",
    "\n",
    "pandrs_df = pd.DataFrame(s8.results)"
   ]
  },
  {
   "cell_type": "code",
   "execution_count": 54,
   "metadata": {},
   "outputs": [
    {
     "name": "stdout",
     "output_type": "stream",
     "text": [
      "The total number of unique DOI values is 2481\n",
      "The total number of unique journal titles 2\n"
     ]
    }
   ],
   "source": [
    "# Unique Values\n",
    "\n",
    "unique_doi = pandrs_df['doi'].unique()\n",
    "print(f\"The total number of unique DOI values is {len(unique_doi)}\")\n",
    "\n",
    "unique_journal = pandrs_df['publicationName'].unique()\n",
    "print(f\"The total number of unique journal titles {len(unique_journal)}\")"
   ]
  },
  {
   "cell_type": "code",
   "execution_count": 55,
   "metadata": {},
   "outputs": [
    {
     "name": "stdout",
     "output_type": "stream",
     "text": [
      "['ISPRS Open Journal of Photogrammetry and Remote Sensing'\n",
      " 'ISPRS Journal of Photogrammetry and Remote Sensing']\n"
     ]
    }
   ],
   "source": [
    "# Print Journal Unique Values\n",
    "print(unique_journal)"
   ]
  },
  {
   "cell_type": "code",
   "execution_count": 56,
   "metadata": {},
   "outputs": [],
   "source": [
    "# Filter the DataFrame to keep only rows where 'journal_title' is 'ISPRS Journal of Photogrammetry and Remote Sensing'\n",
    "pandrs_df = pandrs_df[pandrs_df['publicationName'] == 'ISPRS Journal of Photogrammetry and Remote Sensing']"
   ]
  },
  {
   "cell_type": "code",
   "execution_count": 57,
   "metadata": {},
   "outputs": [
    {
     "data": {
      "text/plain": [
       "2435"
      ]
     },
     "execution_count": 57,
     "metadata": {},
     "output_type": "execute_result"
    }
   ],
   "source": [
    "# Final length of df\n",
    "\n",
    "len(pandrs_df)"
   ]
  },
  {
   "cell_type": "markdown",
   "metadata": {},
   "source": [
    "#### Transactions in GIS (TGIS)"
   ]
  },
  {
   "cell_type": "code",
   "execution_count": 58,
   "metadata": {},
   "outputs": [],
   "source": [
    "# Query set up and Scopus search\n",
    "\n",
    "tgis_query = f'EXACTSRCTITLE(Transactions+AND+in+AND+GIS) AND PUBYEAR > {min_year-1} AND PUBYEAR < {max_year+1}' \n",
    "\n",
    "s9 = ScopusSearch(tgis_query, verbose=True, refresh=180) # Refresh=180 means that the results will be downloaded again after 180 days (to ensure up-to-date information)"
   ]
  },
  {
   "cell_type": "code",
   "execution_count": 59,
   "metadata": {},
   "outputs": [
    {
     "data": {
      "text/plain": [
       "962"
      ]
     },
     "execution_count": 59,
     "metadata": {},
     "output_type": "execute_result"
    }
   ],
   "source": [
    "# Checking length of results\n",
    "\n",
    "s9.get_results_size()"
   ]
  },
  {
   "cell_type": "code",
   "execution_count": 60,
   "metadata": {},
   "outputs": [],
   "source": [
    "# Conversion to dataframe\n",
    "\n",
    "tgis_df = pd.DataFrame(s9.results)"
   ]
  },
  {
   "cell_type": "code",
   "execution_count": 61,
   "metadata": {},
   "outputs": [
    {
     "name": "stdout",
     "output_type": "stream",
     "text": [
      "The total number of unique DOI values is 962\n",
      "The total number of unique journal titles 1\n"
     ]
    }
   ],
   "source": [
    "# Unique Values\n",
    "\n",
    "unique_doi = tgis_df['doi'].unique()\n",
    "print(f\"The total number of unique DOI values is {len(unique_doi)}\")\n",
    "\n",
    "unique_journal = tgis_df['publicationName'].unique()\n",
    "print(f\"The total number of unique journal titles {len(unique_journal)}\")"
   ]
  },
  {
   "cell_type": "code",
   "execution_count": 62,
   "metadata": {},
   "outputs": [
    {
     "name": "stdout",
     "output_type": "stream",
     "text": [
      "['Transactions in GIS']\n"
     ]
    }
   ],
   "source": [
    "# Print Journal Unique Values\n",
    "print(unique_journal)"
   ]
  },
  {
   "cell_type": "code",
   "execution_count": 63,
   "metadata": {},
   "outputs": [
    {
     "data": {
      "text/plain": [
       "962"
      ]
     },
     "execution_count": 63,
     "metadata": {},
     "output_type": "execute_result"
    }
   ],
   "source": [
    "# Final length of df\n",
    "\n",
    "len(tgis_df)"
   ]
  },
  {
   "cell_type": "markdown",
   "metadata": {},
   "source": [
    "#### ACM Transactions on Spatial Algorithms and Systems (TSAS)"
   ]
  },
  {
   "cell_type": "code",
   "execution_count": 64,
   "metadata": {},
   "outputs": [],
   "source": [
    "# Query set up and Scopus search\n",
    "\n",
    "tsas_query = f'EXACTSRCTITLE(ACM+AND+Transactions+AND+on+AND+Spatial+AND+Algorithms+AND+Systems) AND PUBYEAR > {min_year-1} AND PUBYEAR < {max_year+1}' \n",
    "\n",
    "s10 = ScopusSearch(tsas_query, verbose=True, refresh=180) # Refresh=180 means that the results will be downloaded again after 180 days (to ensure up-to-date information)"
   ]
  },
  {
   "cell_type": "code",
   "execution_count": 65,
   "metadata": {},
   "outputs": [
    {
     "data": {
      "text/plain": [
       "190"
      ]
     },
     "execution_count": 65,
     "metadata": {},
     "output_type": "execute_result"
    }
   ],
   "source": [
    "# Checking length of results\n",
    "\n",
    "s10.get_results_size()"
   ]
  },
  {
   "cell_type": "code",
   "execution_count": 66,
   "metadata": {},
   "outputs": [],
   "source": [
    "# Conversion to dataframe\n",
    "\n",
    "tsas_df = pd.DataFrame(s10.results)"
   ]
  },
  {
   "cell_type": "code",
   "execution_count": 67,
   "metadata": {},
   "outputs": [
    {
     "name": "stdout",
     "output_type": "stream",
     "text": [
      "The total number of unique DOI values is 190\n",
      "The total number of unique journal titles 1\n"
     ]
    }
   ],
   "source": [
    "# Unique Values\n",
    "\n",
    "unique_doi = tsas_df['doi'].unique()\n",
    "print(f\"The total number of unique DOI values is {len(unique_doi)}\")\n",
    "\n",
    "unique_journal = tsas_df['publicationName'].unique()\n",
    "print(f\"The total number of unique journal titles {len(unique_journal)}\")"
   ]
  },
  {
   "cell_type": "code",
   "execution_count": 68,
   "metadata": {},
   "outputs": [
    {
     "name": "stdout",
     "output_type": "stream",
     "text": [
      "['ACM Transactions on Spatial Algorithms and Systems']\n"
     ]
    }
   ],
   "source": [
    "# Print Journal Unique Values\n",
    "print(unique_journal)"
   ]
  },
  {
   "cell_type": "code",
   "execution_count": 69,
   "metadata": {},
   "outputs": [
    {
     "data": {
      "text/plain": [
       "190"
      ]
     },
     "execution_count": 69,
     "metadata": {},
     "output_type": "execute_result"
    }
   ],
   "source": [
    "# Final length of df\n",
    "\n",
    "len(tsas_df)"
   ]
  },
  {
   "cell_type": "markdown",
   "metadata": {},
   "source": [
    "#### Combination of journal dataframes and export to json"
   ]
  },
  {
   "cell_type": "code",
   "execution_count": 70,
   "metadata": {},
   "outputs": [],
   "source": [
    "# Concatenation of journals dataframes\n",
    "scopus_api_df = pd.concat([apg_df, cagis_df, gandrs_df, ijde_df, ijgi_df, ijgis_df, jss_df, pandrs_df, tgis_df, tsas_df], ignore_index=True)\n",
    "drop_columns = ['eid', 'pii', 'pubmed_id', 'subtype', 'afid', 'affilname','coverDisplayDate',\n",
    "           'author_afids', 'source_id', 'eIssn', 'aggregationType','volume', 'description',\n",
    "           'issueIdentifier', 'article_number', 'pageRange', 'citedby_count', 'openaccess', 'freetoread', \n",
    "           'freetoreadLabel', 'fund_acr', 'fund_no', 'fund_sponsor']\n",
    "\n",
    "scopus_api_df = scopus_api_df.drop(columns = drop_columns)"
   ]
  },
  {
   "cell_type": "code",
   "execution_count": 71,
   "metadata": {},
   "outputs": [],
   "source": [
    "# Drop rows where there is no creator data\n",
    "scopus_api_df = scopus_api_df.dropna(subset=['creator'])\n",
    "\n",
    "# First Author ID column\n",
    "scopus_api_df['creator_id'] = scopus_api_df['author_ids'].apply(lambda x: x.split(';')[0] if pd.notna(x) else x)\n",
    "\n",
    "# Replacing \"creator\" column value by full name of first author\n",
    "scopus_api_df['creator'] = scopus_api_df['author_names'].apply(lambda x: x.split(';')[0])\n",
    "\n",
    "# Split coverDate in month and year. 'coverDate' was used instead of 'coverDisplayDate' because it has a more standarised format.\n",
    "scopus_api_df[['PubYear', 'PubMonth','PubDay']] = scopus_api_df['coverDate'].str.split('-', expand=True)\n",
    "monthNames = {\n",
    "'01' : 'January', '02' : 'February', '03' : 'March', '04' : 'April', '05' : 'May', '06' : 'June', '07' : 'July', '08' : 'August',\n",
    "'09' : 'September', '10' : 'October', '11' : 'November', '12' : 'December'\n",
    " }\n",
    "\n",
    "scopus_api_df['PubMonth'] = scopus_api_df['PubMonth'].map(monthNames)\n",
    "\n",
    "# Drop coverDate column from df\n",
    "\n",
    "scopus_api_df = scopus_api_df.drop('coverDate', axis= 1)\n",
    "\n",
    "# Removing all publications that are not under the subtypeDescription 'Article' because these are the vast majority of results from APIs\n",
    "scopus_api_df = scopus_api_df[scopus_api_df['subtypeDescription']=='Article']\n"
   ]
  },
  {
   "cell_type": "markdown",
   "metadata": {},
   "source": [
    "The view of the data below shows that the API extracted multiple values for the columns \"affiliation_city\" and \"affiliation_country\", which refer to the first author of the article. Following further research on this issue using the Elsevier Search API - Interactive Documentation (https://dev.elsevier.com/search.html#!/Scopus_Search/ScopusSearch), it was noted that this seems to be a fault in the Scopus_Search API, because when searching for the author's details using the Author_Search API instead, only one affiliation name, city and country is returned in most cases for each author. "
   ]
  },
  {
   "cell_type": "code",
   "execution_count": 72,
   "metadata": {},
   "outputs": [
    {
     "data": {
      "text/html": [
       "<div>\n",
       "<style scoped>\n",
       "    .dataframe tbody tr th:only-of-type {\n",
       "        vertical-align: middle;\n",
       "    }\n",
       "\n",
       "    .dataframe tbody tr th {\n",
       "        vertical-align: top;\n",
       "    }\n",
       "\n",
       "    .dataframe thead th {\n",
       "        text-align: right;\n",
       "    }\n",
       "</style>\n",
       "<table border=\"1\" class=\"dataframe\">\n",
       "  <thead>\n",
       "    <tr style=\"text-align: right;\">\n",
       "      <th></th>\n",
       "      <th>doi</th>\n",
       "      <th>title</th>\n",
       "      <th>subtypeDescription</th>\n",
       "      <th>creator</th>\n",
       "      <th>affiliation_city</th>\n",
       "      <th>affiliation_country</th>\n",
       "      <th>author_count</th>\n",
       "      <th>author_names</th>\n",
       "      <th>author_ids</th>\n",
       "      <th>publicationName</th>\n",
       "      <th>issn</th>\n",
       "      <th>authkeywords</th>\n",
       "      <th>creator_id</th>\n",
       "      <th>PubYear</th>\n",
       "      <th>PubMonth</th>\n",
       "      <th>PubDay</th>\n",
       "    </tr>\n",
       "  </thead>\n",
       "  <tbody>\n",
       "    <tr>\n",
       "      <th>0</th>\n",
       "      <td>10.1016/j.apgeog.2023.103145</td>\n",
       "      <td>Trapped in dilemma: Inverted N-shaped EKC evid...</td>\n",
       "      <td>Article</td>\n",
       "      <td>Huang, Jing</td>\n",
       "      <td>Beijing;Hong Kong</td>\n",
       "      <td>China;Hong Kong</td>\n",
       "      <td>6</td>\n",
       "      <td>Huang, Jing;Zhang, Dong;Zhang, Zhengfeng;Kong,...</td>\n",
       "      <td>57382814800;57221284350;55774175000;5868965180...</td>\n",
       "      <td>Applied Geography</td>\n",
       "      <td>01436228</td>\n",
       "      <td>Ecological land | Economic growth | Inverted N...</td>\n",
       "      <td>57382814800</td>\n",
       "      <td>2023</td>\n",
       "      <td>December</td>\n",
       "      <td>01</td>\n",
       "    </tr>\n",
       "    <tr>\n",
       "      <th>1</th>\n",
       "      <td>10.1016/j.apgeog.2023.103136</td>\n",
       "      <td>Finding home: Participatory geospatial mapping...</td>\n",
       "      <td>Article</td>\n",
       "      <td>Al-haddad, Robin Elizabeth</td>\n",
       "      <td>Ukhiya;Tucson</td>\n",
       "      <td>Bangladesh;United States</td>\n",
       "      <td>2</td>\n",
       "      <td>Al-haddad, Robin Elizabeth;Rakshit, Pradipto V...</td>\n",
       "      <td>57220131060;57776198000</td>\n",
       "      <td>Applied Geography</td>\n",
       "      <td>01436228</td>\n",
       "      <td>Geo-positioning | Geographic oppression | Part...</td>\n",
       "      <td>57220131060</td>\n",
       "      <td>2023</td>\n",
       "      <td>December</td>\n",
       "      <td>01</td>\n",
       "    </tr>\n",
       "    <tr>\n",
       "      <th>2</th>\n",
       "      <td>10.1016/j.apgeog.2023.103122</td>\n",
       "      <td>Diffusion of the Internet-of-Things (IoT): A f...</td>\n",
       "      <td>Article</td>\n",
       "      <td>Jamme, Huê Tâm</td>\n",
       "      <td>Tempe</td>\n",
       "      <td>United States</td>\n",
       "      <td>2</td>\n",
       "      <td>Jamme, Huê Tâm;Connor, Dylan S.</td>\n",
       "      <td>57203571610;55215499600</td>\n",
       "      <td>Applied Geography</td>\n",
       "      <td>01436228</td>\n",
       "      <td>Community change | France | Internet of Things...</td>\n",
       "      <td>57203571610</td>\n",
       "      <td>2023</td>\n",
       "      <td>December</td>\n",
       "      <td>01</td>\n",
       "    </tr>\n",
       "    <tr>\n",
       "      <th>3</th>\n",
       "      <td>10.1016/j.apgeog.2023.103142</td>\n",
       "      <td>A multi-level framework for assessing the spat...</td>\n",
       "      <td>Article</td>\n",
       "      <td>Dong, Junwu</td>\n",
       "      <td>Beijing</td>\n",
       "      <td>China</td>\n",
       "      <td>5</td>\n",
       "      <td>Dong, Junwu;Wang, Yanhui;Yang, Yang;Luo, Xiaoy...</td>\n",
       "      <td>57565840500;56066264400;57225057111;5733714420...</td>\n",
       "      <td>Applied Geography</td>\n",
       "      <td>01436228</td>\n",
       "      <td>Accessibility | Public spaces | SDG 11.7.1 | S...</td>\n",
       "      <td>57565840500</td>\n",
       "      <td>2023</td>\n",
       "      <td>December</td>\n",
       "      <td>01</td>\n",
       "    </tr>\n",
       "    <tr>\n",
       "      <th>4</th>\n",
       "      <td>10.1016/j.apgeog.2023.103140</td>\n",
       "      <td>Urbanization shifts freshwater service flows i...</td>\n",
       "      <td>Article</td>\n",
       "      <td>Shen, Wenting</td>\n",
       "      <td>Guangzhou</td>\n",
       "      <td>China</td>\n",
       "      <td>2</td>\n",
       "      <td>Shen, Wenting;Liu, Zhenhuan</td>\n",
       "      <td>58675798400;55585649300</td>\n",
       "      <td>Applied Geography</td>\n",
       "      <td>01436228</td>\n",
       "      <td>Freshwater ecosystem service flow | Social-eco...</td>\n",
       "      <td>58675798400</td>\n",
       "      <td>2023</td>\n",
       "      <td>December</td>\n",
       "      <td>01</td>\n",
       "    </tr>\n",
       "  </tbody>\n",
       "</table>\n",
       "</div>"
      ],
      "text/plain": [
       "                            doi  \\\n",
       "0  10.1016/j.apgeog.2023.103145   \n",
       "1  10.1016/j.apgeog.2023.103136   \n",
       "2  10.1016/j.apgeog.2023.103122   \n",
       "3  10.1016/j.apgeog.2023.103142   \n",
       "4  10.1016/j.apgeog.2023.103140   \n",
       "\n",
       "                                               title subtypeDescription  \\\n",
       "0  Trapped in dilemma: Inverted N-shaped EKC evid...            Article   \n",
       "1  Finding home: Participatory geospatial mapping...            Article   \n",
       "2  Diffusion of the Internet-of-Things (IoT): A f...            Article   \n",
       "3  A multi-level framework for assessing the spat...            Article   \n",
       "4  Urbanization shifts freshwater service flows i...            Article   \n",
       "\n",
       "                      creator   affiliation_city       affiliation_country  \\\n",
       "0                 Huang, Jing  Beijing;Hong Kong           China;Hong Kong   \n",
       "1  Al-haddad, Robin Elizabeth      Ukhiya;Tucson  Bangladesh;United States   \n",
       "2              Jamme, Huê Tâm              Tempe             United States   \n",
       "3                 Dong, Junwu            Beijing                     China   \n",
       "4               Shen, Wenting          Guangzhou                     China   \n",
       "\n",
       "  author_count                                       author_names  \\\n",
       "0            6  Huang, Jing;Zhang, Dong;Zhang, Zhengfeng;Kong,...   \n",
       "1            2  Al-haddad, Robin Elizabeth;Rakshit, Pradipto V...   \n",
       "2            2                    Jamme, Huê Tâm;Connor, Dylan S.   \n",
       "3            5  Dong, Junwu;Wang, Yanhui;Yang, Yang;Luo, Xiaoy...   \n",
       "4            2                        Shen, Wenting;Liu, Zhenhuan   \n",
       "\n",
       "                                          author_ids    publicationName  \\\n",
       "0  57382814800;57221284350;55774175000;5868965180...  Applied Geography   \n",
       "1                            57220131060;57776198000  Applied Geography   \n",
       "2                            57203571610;55215499600  Applied Geography   \n",
       "3  57565840500;56066264400;57225057111;5733714420...  Applied Geography   \n",
       "4                            58675798400;55585649300  Applied Geography   \n",
       "\n",
       "       issn                                       authkeywords   creator_id  \\\n",
       "0  01436228  Ecological land | Economic growth | Inverted N...  57382814800   \n",
       "1  01436228  Geo-positioning | Geographic oppression | Part...  57220131060   \n",
       "2  01436228  Community change | France | Internet of Things...  57203571610   \n",
       "3  01436228  Accessibility | Public spaces | SDG 11.7.1 | S...  57565840500   \n",
       "4  01436228  Freshwater ecosystem service flow | Social-eco...  58675798400   \n",
       "\n",
       "  PubYear  PubMonth PubDay  \n",
       "0    2023  December     01  \n",
       "1    2023  December     01  \n",
       "2    2023  December     01  \n",
       "3    2023  December     01  \n",
       "4    2023  December     01  "
      ]
     },
     "execution_count": 72,
     "metadata": {},
     "output_type": "execute_result"
    }
   ],
   "source": [
    "# Overview of data\n",
    "scopus_api_df.head(5)"
   ]
  },
  {
   "cell_type": "code",
   "execution_count": 73,
   "metadata": {},
   "outputs": [
    {
     "name": "stdout",
     "output_type": "stream",
     "text": [
      "The total number of extracted articles is 12993\n"
     ]
    }
   ],
   "source": [
    "# Checking lenght of df\n",
    "\n",
    "print(\"The total number of extracted articles is\", len(scopus_api_df))"
   ]
  },
  {
   "cell_type": "code",
   "execution_count": 74,
   "metadata": {},
   "outputs": [
    {
     "name": "stdout",
     "output_type": "stream",
     "text": [
      "doi                       0\n",
      "title                     0\n",
      "subtypeDescription        0\n",
      "creator                   0\n",
      "affiliation_city          5\n",
      "affiliation_country       5\n",
      "author_count              0\n",
      "author_names              0\n",
      "author_ids                0\n",
      "publicationName           0\n",
      "issn                   4452\n",
      "authkeywords            963\n",
      "creator_id                0\n",
      "PubYear                   0\n",
      "PubMonth                  0\n",
      "PubDay                    0\n",
      "dtype: int64\n"
     ]
    }
   ],
   "source": [
    "# Check for missing values in each column\n",
    "print(scopus_api_df.isnull().sum())"
   ]
  },
  {
   "cell_type": "markdown",
   "metadata": {},
   "source": [
    "The results below show the number of rows with multiple values in the columns \"affiliation_city\" and \" affiliation_country\". "
   ]
  },
  {
   "cell_type": "code",
   "execution_count": 75,
   "metadata": {},
   "outputs": [
    {
     "data": {
      "text/plain": [
       "{'affiliation_city': 8646, 'affiliation_country': 8646}"
      ]
     },
     "execution_count": 75,
     "metadata": {},
     "output_type": "execute_result"
    }
   ],
   "source": [
    "# Checking for rows with more than one value in the specified columns\n",
    "columns_to_check = ['affiliation_city', 'affiliation_country']\n",
    "\n",
    "# Create a dictionary to store the count of rows with multiple values for each column\n",
    "multiple_values_count = {}\n",
    "\n",
    "# Iterate through the columns and count rows with more than one value\n",
    "for column in columns_to_check:\n",
    "    multiple_values_count[column] = scopus_api_df[scopus_api_df[column].str.contains(';', na=False)].shape[0]\n",
    "\n",
    "# Display the counts\n",
    "multiple_values_count"
   ]
  },
  {
   "cell_type": "markdown",
   "metadata": {},
   "source": [
    "The code below extracts details of the authors using the Author_Search API, searching by the first author ID number. The code then generates a new dataframe \"affiliation_df\". This dataframe and the original dataframe can then be merged with a left joint and the author's details can be replaced accordingly. "
   ]
  },
  {
   "cell_type": "code",
   "execution_count": 76,
   "metadata": {},
   "outputs": [
    {
     "name": "stderr",
     "output_type": "stream",
     "text": [
      "Processing authors: 100%|██████████| 10000/10000 [00:03<00:00, 2835.46it/s]\n"
     ]
    }
   ],
   "source": [
    "# note: the default weekly quota for AuthorSearch is 5,000. Elsevier support extended it to 15,000 for my API key. \n",
    "# Initialise a list to store the extracted information\n",
    "affiliation_details = []\n",
    "\n",
    "# Unique creator_id values\n",
    "unique_creator_ids = scopus_api_df['creator_id'].dropna().unique()\n",
    "\n",
    "# Iterate through each author ID in the DataFrame\n",
    "for author_id in tqdm(unique_creator_ids, desc=\"Processing authors\"):\n",
    "    try:\n",
    "        # Perform the AuthorSearch\n",
    "        search = AuthorSearch(f'AU-ID({author_id})', download=True, refresh=180)\n",
    "        \n",
    "        # Extract the required information if the author is found\n",
    "        if search.authors:\n",
    "            author_info = search.authors[0]  # There should be one match only\n",
    "            affiliation_details.append({\n",
    "                'author_id': author_id,\n",
    "                'city': author_info.city,\n",
    "                'country': author_info.country\n",
    "            })\n",
    "        else:\n",
    "            affiliation_details.append({\n",
    "                'author_id': author_id,\n",
    "                'city': np.nan,\n",
    "                'country': np.nan\n",
    "            })\n",
    "    except Exception as e:\n",
    "        print(f\"An error occurred while processing author ID {author_id}: {e}\")\n",
    "\n",
    "# Convert the list to a DataFrame\n",
    "affiliation_df = pd.DataFrame(affiliation_details)\n",
    "\n",
    "# Rename ID column\n",
    "affiliation_df.rename(columns={'author_id': 'creator_id'}, inplace=True)\n",
    "\n"
   ]
  },
  {
   "cell_type": "code",
   "execution_count": 77,
   "metadata": {},
   "outputs": [
    {
     "data": {
      "text/html": [
       "<div>\n",
       "<style scoped>\n",
       "    .dataframe tbody tr th:only-of-type {\n",
       "        vertical-align: middle;\n",
       "    }\n",
       "\n",
       "    .dataframe tbody tr th {\n",
       "        vertical-align: top;\n",
       "    }\n",
       "\n",
       "    .dataframe thead th {\n",
       "        text-align: right;\n",
       "    }\n",
       "</style>\n",
       "<table border=\"1\" class=\"dataframe\">\n",
       "  <thead>\n",
       "    <tr style=\"text-align: right;\">\n",
       "      <th></th>\n",
       "      <th>creator_id</th>\n",
       "      <th>city</th>\n",
       "      <th>country</th>\n",
       "    </tr>\n",
       "  </thead>\n",
       "  <tbody>\n",
       "    <tr>\n",
       "      <th>0</th>\n",
       "      <td>57382814800</td>\n",
       "      <td>Beijing</td>\n",
       "      <td>China</td>\n",
       "    </tr>\n",
       "    <tr>\n",
       "      <th>1</th>\n",
       "      <td>57220131060</td>\n",
       "      <td>Tucson</td>\n",
       "      <td>United States</td>\n",
       "    </tr>\n",
       "    <tr>\n",
       "      <th>2</th>\n",
       "      <td>57203571610</td>\n",
       "      <td>Tempe</td>\n",
       "      <td>United States</td>\n",
       "    </tr>\n",
       "    <tr>\n",
       "      <th>3</th>\n",
       "      <td>57565840500</td>\n",
       "      <td>Beijing</td>\n",
       "      <td>China</td>\n",
       "    </tr>\n",
       "    <tr>\n",
       "      <th>4</th>\n",
       "      <td>58675798400</td>\n",
       "      <td>Guangzhou</td>\n",
       "      <td>China</td>\n",
       "    </tr>\n",
       "  </tbody>\n",
       "</table>\n",
       "</div>"
      ],
      "text/plain": [
       "    creator_id       city        country\n",
       "0  57382814800    Beijing          China\n",
       "1  57220131060     Tucson  United States\n",
       "2  57203571610      Tempe  United States\n",
       "3  57565840500    Beijing          China\n",
       "4  58675798400  Guangzhou          China"
      ]
     },
     "execution_count": 77,
     "metadata": {},
     "output_type": "execute_result"
    }
   ],
   "source": [
    "affiliation_df.head(5)"
   ]
  },
  {
   "cell_type": "markdown",
   "metadata": {},
   "source": [
    "Now there are no rows with multiple values in the columns \"city\" or \"country\"."
   ]
  },
  {
   "cell_type": "code",
   "execution_count": 78,
   "metadata": {},
   "outputs": [
    {
     "data": {
      "text/plain": [
       "{'city': 0, 'country': 0}"
      ]
     },
     "execution_count": 78,
     "metadata": {},
     "output_type": "execute_result"
    }
   ],
   "source": [
    "# Checking for rows with more than one value in the specified columns\n",
    "columns_to_check2 = ['city', 'country']\n",
    "\n",
    "# Create a dictionary to store the count of rows with multiple values for each column\n",
    "multiple_values_count2 = {}\n",
    "\n",
    "# Iterate through the columns and count rows with more than one value\n",
    "for column in columns_to_check2:\n",
    "    multiple_values_count2[column] = affiliation_df[affiliation_df[column].str.contains(';', na=False)].shape[0]\n",
    "\n",
    "# Display the counts\n",
    "multiple_values_count2"
   ]
  },
  {
   "cell_type": "code",
   "execution_count": 79,
   "metadata": {},
   "outputs": [
    {
     "data": {
      "text/html": [
       "<div>\n",
       "<style scoped>\n",
       "    .dataframe tbody tr th:only-of-type {\n",
       "        vertical-align: middle;\n",
       "    }\n",
       "\n",
       "    .dataframe tbody tr th {\n",
       "        vertical-align: top;\n",
       "    }\n",
       "\n",
       "    .dataframe thead th {\n",
       "        text-align: right;\n",
       "    }\n",
       "</style>\n",
       "<table border=\"1\" class=\"dataframe\">\n",
       "  <thead>\n",
       "    <tr style=\"text-align: right;\">\n",
       "      <th></th>\n",
       "      <th>doi</th>\n",
       "      <th>title</th>\n",
       "      <th>subtypeDescription</th>\n",
       "      <th>creator</th>\n",
       "      <th>affiliation_city</th>\n",
       "      <th>affiliation_country</th>\n",
       "      <th>author_count</th>\n",
       "      <th>author_names</th>\n",
       "      <th>author_ids</th>\n",
       "      <th>publicationName</th>\n",
       "      <th>issn</th>\n",
       "      <th>authkeywords</th>\n",
       "      <th>creator_id</th>\n",
       "      <th>PubYear</th>\n",
       "      <th>PubMonth</th>\n",
       "      <th>PubDay</th>\n",
       "    </tr>\n",
       "  </thead>\n",
       "  <tbody>\n",
       "    <tr>\n",
       "      <th>0</th>\n",
       "      <td>10.1016/j.apgeog.2023.103145</td>\n",
       "      <td>Trapped in dilemma: Inverted N-shaped EKC evid...</td>\n",
       "      <td>Article</td>\n",
       "      <td>Huang, Jing</td>\n",
       "      <td>Beijing</td>\n",
       "      <td>China</td>\n",
       "      <td>6</td>\n",
       "      <td>Huang, Jing;Zhang, Dong;Zhang, Zhengfeng;Kong,...</td>\n",
       "      <td>57382814800;57221284350;55774175000;5868965180...</td>\n",
       "      <td>Applied Geography</td>\n",
       "      <td>01436228</td>\n",
       "      <td>Ecological land | Economic growth | Inverted N...</td>\n",
       "      <td>57382814800</td>\n",
       "      <td>2023</td>\n",
       "      <td>December</td>\n",
       "      <td>01</td>\n",
       "    </tr>\n",
       "    <tr>\n",
       "      <th>1</th>\n",
       "      <td>10.1016/j.apgeog.2023.103136</td>\n",
       "      <td>Finding home: Participatory geospatial mapping...</td>\n",
       "      <td>Article</td>\n",
       "      <td>Al-haddad, Robin Elizabeth</td>\n",
       "      <td>Tucson</td>\n",
       "      <td>United States</td>\n",
       "      <td>2</td>\n",
       "      <td>Al-haddad, Robin Elizabeth;Rakshit, Pradipto V...</td>\n",
       "      <td>57220131060;57776198000</td>\n",
       "      <td>Applied Geography</td>\n",
       "      <td>01436228</td>\n",
       "      <td>Geo-positioning | Geographic oppression | Part...</td>\n",
       "      <td>57220131060</td>\n",
       "      <td>2023</td>\n",
       "      <td>December</td>\n",
       "      <td>01</td>\n",
       "    </tr>\n",
       "    <tr>\n",
       "      <th>2</th>\n",
       "      <td>10.1016/j.apgeog.2023.103122</td>\n",
       "      <td>Diffusion of the Internet-of-Things (IoT): A f...</td>\n",
       "      <td>Article</td>\n",
       "      <td>Jamme, Huê Tâm</td>\n",
       "      <td>Tempe</td>\n",
       "      <td>United States</td>\n",
       "      <td>2</td>\n",
       "      <td>Jamme, Huê Tâm;Connor, Dylan S.</td>\n",
       "      <td>57203571610;55215499600</td>\n",
       "      <td>Applied Geography</td>\n",
       "      <td>01436228</td>\n",
       "      <td>Community change | France | Internet of Things...</td>\n",
       "      <td>57203571610</td>\n",
       "      <td>2023</td>\n",
       "      <td>December</td>\n",
       "      <td>01</td>\n",
       "    </tr>\n",
       "    <tr>\n",
       "      <th>3</th>\n",
       "      <td>10.1016/j.apgeog.2023.103142</td>\n",
       "      <td>A multi-level framework for assessing the spat...</td>\n",
       "      <td>Article</td>\n",
       "      <td>Dong, Junwu</td>\n",
       "      <td>Beijing</td>\n",
       "      <td>China</td>\n",
       "      <td>5</td>\n",
       "      <td>Dong, Junwu;Wang, Yanhui;Yang, Yang;Luo, Xiaoy...</td>\n",
       "      <td>57565840500;56066264400;57225057111;5733714420...</td>\n",
       "      <td>Applied Geography</td>\n",
       "      <td>01436228</td>\n",
       "      <td>Accessibility | Public spaces | SDG 11.7.1 | S...</td>\n",
       "      <td>57565840500</td>\n",
       "      <td>2023</td>\n",
       "      <td>December</td>\n",
       "      <td>01</td>\n",
       "    </tr>\n",
       "    <tr>\n",
       "      <th>4</th>\n",
       "      <td>10.1016/j.apgeog.2023.103140</td>\n",
       "      <td>Urbanization shifts freshwater service flows i...</td>\n",
       "      <td>Article</td>\n",
       "      <td>Shen, Wenting</td>\n",
       "      <td>Guangzhou</td>\n",
       "      <td>China</td>\n",
       "      <td>2</td>\n",
       "      <td>Shen, Wenting;Liu, Zhenhuan</td>\n",
       "      <td>58675798400;55585649300</td>\n",
       "      <td>Applied Geography</td>\n",
       "      <td>01436228</td>\n",
       "      <td>Freshwater ecosystem service flow | Social-eco...</td>\n",
       "      <td>58675798400</td>\n",
       "      <td>2023</td>\n",
       "      <td>December</td>\n",
       "      <td>01</td>\n",
       "    </tr>\n",
       "  </tbody>\n",
       "</table>\n",
       "</div>"
      ],
      "text/plain": [
       "                            doi  \\\n",
       "0  10.1016/j.apgeog.2023.103145   \n",
       "1  10.1016/j.apgeog.2023.103136   \n",
       "2  10.1016/j.apgeog.2023.103122   \n",
       "3  10.1016/j.apgeog.2023.103142   \n",
       "4  10.1016/j.apgeog.2023.103140   \n",
       "\n",
       "                                               title subtypeDescription  \\\n",
       "0  Trapped in dilemma: Inverted N-shaped EKC evid...            Article   \n",
       "1  Finding home: Participatory geospatial mapping...            Article   \n",
       "2  Diffusion of the Internet-of-Things (IoT): A f...            Article   \n",
       "3  A multi-level framework for assessing the spat...            Article   \n",
       "4  Urbanization shifts freshwater service flows i...            Article   \n",
       "\n",
       "                      creator affiliation_city affiliation_country  \\\n",
       "0                 Huang, Jing          Beijing               China   \n",
       "1  Al-haddad, Robin Elizabeth           Tucson       United States   \n",
       "2              Jamme, Huê Tâm            Tempe       United States   \n",
       "3                 Dong, Junwu          Beijing               China   \n",
       "4               Shen, Wenting        Guangzhou               China   \n",
       "\n",
       "  author_count                                       author_names  \\\n",
       "0            6  Huang, Jing;Zhang, Dong;Zhang, Zhengfeng;Kong,...   \n",
       "1            2  Al-haddad, Robin Elizabeth;Rakshit, Pradipto V...   \n",
       "2            2                    Jamme, Huê Tâm;Connor, Dylan S.   \n",
       "3            5  Dong, Junwu;Wang, Yanhui;Yang, Yang;Luo, Xiaoy...   \n",
       "4            2                        Shen, Wenting;Liu, Zhenhuan   \n",
       "\n",
       "                                          author_ids    publicationName  \\\n",
       "0  57382814800;57221284350;55774175000;5868965180...  Applied Geography   \n",
       "1                            57220131060;57776198000  Applied Geography   \n",
       "2                            57203571610;55215499600  Applied Geography   \n",
       "3  57565840500;56066264400;57225057111;5733714420...  Applied Geography   \n",
       "4                            58675798400;55585649300  Applied Geography   \n",
       "\n",
       "       issn                                       authkeywords   creator_id  \\\n",
       "0  01436228  Ecological land | Economic growth | Inverted N...  57382814800   \n",
       "1  01436228  Geo-positioning | Geographic oppression | Part...  57220131060   \n",
       "2  01436228  Community change | France | Internet of Things...  57203571610   \n",
       "3  01436228  Accessibility | Public spaces | SDG 11.7.1 | S...  57565840500   \n",
       "4  01436228  Freshwater ecosystem service flow | Social-eco...  58675798400   \n",
       "\n",
       "  PubYear  PubMonth PubDay  \n",
       "0    2023  December     01  \n",
       "1    2023  December     01  \n",
       "2    2023  December     01  \n",
       "3    2023  December     01  \n",
       "4    2023  December     01  "
      ]
     },
     "execution_count": 79,
     "metadata": {},
     "output_type": "execute_result"
    }
   ],
   "source": [
    "# Merge the two dataframes\n",
    "merged_df = scopus_api_df.merge(affiliation_df, on='creator_id', how='left')\n",
    "\n",
    "# Update of details based on merged_df\n",
    "scopus_api_df['affiliation_city'] = merged_df['city']\n",
    "scopus_api_df['affiliation_country'] = merged_df['country']\n",
    "\n",
    "scopus_api_df.head(5)"
   ]
  },
  {
   "cell_type": "code",
   "execution_count": 80,
   "metadata": {},
   "outputs": [
    {
     "data": {
      "text/plain": [
       "12993"
      ]
     },
     "execution_count": 80,
     "metadata": {},
     "output_type": "execute_result"
    }
   ],
   "source": [
    "# Checking the length of the dataframe to ensure that it has not changed\n",
    "len(scopus_api_df)"
   ]
  },
  {
   "cell_type": "markdown",
   "metadata": {},
   "source": [
    "Once the dataframes are joined and the data is replaced, there are no rows with multiple affiliation countries and cities."
   ]
  },
  {
   "cell_type": "code",
   "execution_count": 81,
   "metadata": {},
   "outputs": [
    {
     "data": {
      "text/plain": [
       "{'affiliation_city': 0, 'affiliation_country': 0}"
      ]
     },
     "execution_count": 81,
     "metadata": {},
     "output_type": "execute_result"
    }
   ],
   "source": [
    "# Checking for rows with more than one value in the specified columns\n",
    "columns_to_check = ['affiliation_city', 'affiliation_country']\n",
    "\n",
    "# Create a dictionary to store the count of rows with multiple values for each column\n",
    "multiple_values_count = {}\n",
    "\n",
    "# Iterate through the columns and count rows with more than one value\n",
    "for column in columns_to_check:\n",
    "    multiple_values_count[column] = scopus_api_df[scopus_api_df[column].str.contains(';', na=False)].shape[0]\n",
    "\n",
    "# Display the counts\n",
    "multiple_values_count"
   ]
  },
  {
   "cell_type": "code",
   "execution_count": 82,
   "metadata": {},
   "outputs": [],
   "source": [
    "# Export df to json file\n",
    "scopus_api_df.to_json('scopus_api_top10.json', orient='records', lines=True)"
   ]
  },
  {
   "cell_type": "markdown",
   "metadata": {},
   "source": [
    "#### Json file to Database"
   ]
  },
  {
   "cell_type": "code",
   "execution_count": 83,
   "metadata": {},
   "outputs": [],
   "source": [
    "# Loading json file\n",
    "jsonData = []\n",
    "with open(\"scopus_api_top10.json\",\"r\") as file:\n",
    "    for line in file:\n",
    "        jsonData.append(json.loads(line))"
   ]
  },
  {
   "cell_type": "code",
   "execution_count": 84,
   "metadata": {},
   "outputs": [
    {
     "name": "stderr",
     "output_type": "stream",
     "text": [
      "Processing objects: 100%|██████████| 12993/12993 [00:00<00:00, 246699.19it/s]\n"
     ]
    }
   ],
   "source": [
    "## make the structure of your table \n",
    "\n",
    "tableName = \"ScopusAPIData\"\n",
    "dropTable = \"DROP TABLE IF EXISTS {} ;\\n\".format(tableName)\n",
    "\n",
    "createTableStatement = \"CREATE TABLE {} (\\n\".format(tableName)\n",
    "\n",
    "createTableStatement = createTableStatement + \"pkID SERIAL PRIMARY KEY NOT NULL,\\n\"\n",
    "createTableStatement = createTableStatement + \"DOI TEXT NOT NULL,\\n\"\n",
    "createTableStatement = createTableStatement + \"ISSN INTEGER,\\n\"\n",
    "createTableStatement = createTableStatement + \"Title TEXT NOT NULL,\\n\"\n",
    "createTableStatement = createTableStatement + \"Type TEXT NOT NULL,\\n \"\n",
    "createTableStatement = createTableStatement + \"First_Author TEXT NOT NULL,\\n \"\n",
    "createTableStatement = createTableStatement + \"First_Author_ID BIGINT NOT NULL,\\n \"\n",
    "createTableStatement = createTableStatement + \"Affil_City TEXT,\\n \"\n",
    "createTableStatement = createTableStatement + \"Affil_Country TEXT,\\n \"\n",
    "createTableStatement = createTableStatement + \"Author_Count INTEGER NOT NULL,\\n\"\n",
    "createTableStatement = createTableStatement + \"Author_Names TEXT NOT NULL,\\n \"\n",
    "createTableStatement = createTableStatement + \"Author_IDs TEXT NOT NULL,\\n \"\n",
    "createTableStatement = createTableStatement + \"Pub_Day INTEGER NOT NULL,\\n \"\n",
    "createTableStatement = createTableStatement + \"Pub_Month TEXT NOT NULL,\\n \"\n",
    "createTableStatement = createTableStatement + \"Pub_Year INTEGER NOT NULL,\\n \"\n",
    "createTableStatement = createTableStatement + \"Journal TEXT NOT NULL,\\n \"\n",
    "createTableStatement = createTableStatement + \"Keywords TEXT\\n \"\n",
    "createTableStatement = createTableStatement  + \");\\n\"\n",
    "\n",
    "outputSQLFile = open(\"ScopusAPIData.sql\", \"w\")\n",
    "outputSQLFile.write(dropTable)\n",
    "outputSQLFile.write(createTableStatement)\n",
    "\n",
    "#[{\"DOI\":\"XX\",\"ISSN\":XX,\"Title\":\"XX\",\"Type\":\"XX\",\"First_Author\":\"XX\"},\n",
    "for obj in tqdm(jsonData, desc=\"Processing objects\"):\n",
    "    DOI =  obj[\"doi\"]\n",
    "    ISSN = obj.get(\"issn\", None)  # Handle missing ISSN\n",
    "    Title = obj[\"title\"].replace(\"'\", \"''\")\n",
    "    Type = obj[\"subtypeDescription\"]\n",
    "    First_Author =  obj[\"creator\"].replace(\"'\", \"''\")\n",
    "    First_Author_ID = obj[\"creator_id\"]\n",
    "    Affil_City = obj[\"affiliation_city\"].replace(\"'\", \"''\") if obj[\"affiliation_city\"] else None\n",
    "    Affil_Country = obj[\"affiliation_country\"].replace(\"'\", \"''\") if obj[\"affiliation_country\"] else None\n",
    "    Author_Count = obj[\"author_count\"]\n",
    "    Author_Names = obj[\"author_names\"].replace(\"'\", \"''\")\n",
    "    Author_IDs = obj[\"author_ids\"]\n",
    "    Pub_Day = obj[\"PubDay\"]\n",
    "    Pub_Month = obj[\"PubMonth\"]\n",
    "    Pub_Year = obj[\"PubYear\"]\n",
    "    Journal = obj[\"publicationName\"].replace(\"'\", \"''\")\n",
    "    Keywords = obj[\"authkeywords\"].replace(\"'\", \"''\") if obj[\"authkeywords\"] else None\n",
    "\n",
    "    # Handle None values for optional fields\n",
    "    ISSN_value = ISSN if ISSN else 'NULL'\n",
    "    Affil_City_value = f\"{Affil_City}\" if Affil_City else 'NULL'\n",
    "    Affil_Country_value = f\"{Affil_Country}\" if Affil_Country else 'NULL'\n",
    "    Keywords_value = f\"{Keywords}\" if Keywords else 'NULL'\n",
    "\n",
    "    \n",
    "    insertStatement = f\"\"\"INSERT INTO {tableName} (DOI,ISSN,Title,Type,First_Author,First_Author_ID,Affil_City,Affil_Country,Author_Count,Author_Names,Author_IDs,Pub_Day,Pub_Month,Pub_Year,Journal,Keywords) VALUES ('{DOI}',{ISSN_value},'{Title}','{Type}','{First_Author}',{First_Author_ID},'{Affil_City_value}','{Affil_Country_value}',{Author_Count},'{Author_Names}','{Author_IDs}','{Pub_Day}','{Pub_Month}','{Pub_Year}','{Journal}','{Keywords_value}');\n",
    "    \"\"\"\n",
    "    ## write each insert statement to the file\n",
    "\n",
    "    outputSQLFile.write(insertStatement)\n",
    "\n",
    "outputSQLFile.close() # close the output file so that it is written correctly. "
   ]
  },
  {
   "cell_type": "markdown",
   "metadata": {},
   "source": [
    "#### Querying the Database"
   ]
  },
  {
   "cell_type": "code",
   "execution_count": 3,
   "metadata": {},
   "outputs": [],
   "source": [
    "# Postgres DB Connection params\n",
    "dbHost = \"localhost\"\n",
    "dbName = \"postgres\"\n",
    "dbUser = \"postgres\"\n",
    "dbPassword = \"LaChiquitita_1011\""
   ]
  },
  {
   "cell_type": "code",
   "execution_count": 4,
   "metadata": {},
   "outputs": [],
   "source": [
    "def ConnectToDatabase():\n",
    "\ttry:\n",
    "\t\tconn = psycopg.connect( host=dbHost,dbname=dbName,user=dbUser,password=dbPassword)\n",
    "\t\tprint (\"Connected to database\")\n",
    "\t\treturn conn\n",
    "\texcept:\n",
    "\t\tprint(\"Database not found. Please enter correct database credentials in config.json\")\n",
    "\t\treturn None"
   ]
  },
  {
   "cell_type": "code",
   "execution_count": 5,
   "metadata": {},
   "outputs": [],
   "source": [
    "# This shows how to run an SQL query with parameters. \n",
    "def sqlQuery(connection,query_text):\n",
    "\ttry:\n",
    "\t\tcursor = connection.cursor()\n",
    "\t\tcursor.execute(query_text)\n",
    "\t\tresults = cursor.fetchall()\n",
    "\t\tcursor.close()\n",
    "\t\treturn results\n",
    "\texcept psycopg.Error as error:\n",
    "\t\tprint(\"Failed to execute query:\", error)\n",
    "\t\tconnection.rollback()\n"
   ]
  },
  {
   "cell_type": "code",
   "execution_count": 6,
   "metadata": {},
   "outputs": [
    {
     "name": "stdout",
     "output_type": "stream",
     "text": [
      "Connected to database\n",
      "Article, 12993\n",
      "\n",
      "\n"
     ]
    }
   ],
   "source": [
    "# Test query to check that the latest version of the database is being used\n",
    "\n",
    "## Run an SQL query \n",
    "dbConnection = ConnectToDatabase()\n",
    "Type = []\n",
    "Count=[]\n",
    "if dbConnection is not None:\n",
    "    SQL_Query_Text = \"SELECT Type, COUNT(*) as count from scopusapidata group by type\"\n",
    "    queryResults = sqlQuery(dbConnection,SQL_Query_Text)\n",
    "    for s in queryResults:\n",
    "        print(\"{}, {}\".format(s[0], s[1]))\n",
    "        Type.append(s[0])\n",
    "        Count.append(s[1])\n",
    "    print(\"\\n\")\n",
    "    dbConnection.close()\n",
    "else:\n",
    "    print(\"Failed to connect to the database.\")"
   ]
  },
  {
   "cell_type": "markdown",
   "metadata": {},
   "source": [
    "##### Top 10 Countries by Number of Publications"
   ]
  },
  {
   "cell_type": "code",
   "execution_count": 7,
   "metadata": {},
   "outputs": [
    {
     "name": "stdout",
     "output_type": "stream",
     "text": [
      "Connected to database\n",
      "China, Number of Publications = 4314 articles, % of Total = 33.20%\n",
      "United States, Number of Publications = 1803 articles, % of Total = 13.88%\n",
      "NULL, Number of Publications = 901 articles, % of Total = 6.93%\n",
      "Germany, Number of Publications = 516 articles, % of Total = 3.97%\n",
      "United Kingdom, Number of Publications = 337 articles, % of Total = 2.59%\n",
      "Spain, Number of Publications = 336 articles, % of Total = 2.59%\n",
      "Canada, Number of Publications = 327 articles, % of Total = 2.52%\n",
      "Australia, Number of Publications = 308 articles, % of Total = 2.37%\n",
      "Italy, Number of Publications = 305 articles, % of Total = 2.35%\n",
      "Netherlands, Number of Publications = 208 articles, % of Total = 1.60%\n",
      "South Korea, Number of Publications = 201 articles, % of Total = 1.55%\n",
      "\n",
      "\n"
     ]
    }
   ],
   "source": [
    "# Query to see the 10 countries with the most publications and percentage from total - 11 is used in query because NULL is in the top 10\n",
    "\n",
    "## Run an SQL query \n",
    "dbConnection = ConnectToDatabase()\n",
    "Country = []\n",
    "Count=[]\n",
    "tot_perc= []\n",
    "if dbConnection is not None:\n",
    "    SQL_Query_Text = \"SELECT Affil_Country, COUNT(*) AS count, ROUND((COUNT(*)::float / total.total_count * 100)::numeric, 2) AS tot_percent FROM public.scopusapidata, (SELECT COUNT(*) AS total_count FROM public.scopusapidata) AS total where (Affil_Country is not null) GROUP BY Affil_Country, total.total_count ORDER BY count DESC limit 11\"\n",
    "    queryResults = sqlQuery(dbConnection,SQL_Query_Text)\n",
    "    for s in queryResults:\n",
    "        print(\"{}, Number of Publications = {} articles, % of Total = {}%\".format(s[0], s[1], s[2]))\n",
    "        Country.append(s[0])\n",
    "        Count.append(s[1])\n",
    "        tot_perc.append(s[2])\n",
    "    print(\"\\n\")\n",
    "    dbConnection.close()\n",
    "else:\n",
    "    print(\"Failed to connect to the database.\")"
   ]
  },
  {
   "cell_type": "code",
   "execution_count": 8,
   "metadata": {},
   "outputs": [
    {
     "data": {
      "text/plain": [
       "Text(0.5, 1.0, 'Top 10 Countries by Number of Publications between 2013-2023')"
      ]
     },
     "execution_count": 8,
     "metadata": {},
     "output_type": "execute_result"
    },
    {
     "data": {
      "image/png": "[encoded data removed]",
      "text/plain": [
       "<Figure size 640x480 with 1 Axes>"
      ]
     },
     "metadata": {},
     "output_type": "display_data"
    }
   ],
   "source": [
    "# Plotting results from query above \n",
    "fig, ax = plt.subplots()\n",
    "\n",
    "y_pos = np.arange(len(Country))\n",
    "\n",
    "ax.barh(y_pos, tot_perc, align='center')\n",
    "ax.set_yticks(y_pos, labels=Country, fontsize = 9)\n",
    "# Add annotation to bars\n",
    "ax.invert_yaxis()  # labels read top-to-bottom\n",
    "ax.set_xlabel('% of Total', fontsize = 10)\n",
    "ax.set_title('Top 10 Countries by Number of Publications between 2013-2023', fontsize = 11)"
   ]
  },
  {
   "cell_type": "markdown",
   "metadata": {},
   "source": [
    "##### Q1 - Publication Trend in China"
   ]
  },
  {
   "cell_type": "code",
   "execution_count": 67,
   "metadata": {},
   "outputs": [
    {
     "name": "stdout",
     "output_type": "stream",
     "text": [
      "Connected to database\n",
      "Year = 2013, Number of Publications = 229 articles\n",
      "Year = 2014, Number of Publications = 249 articles\n",
      "Year = 2015, Number of Publications = 260 articles\n",
      "Year = 2016, Number of Publications = 267 articles\n",
      "Year = 2017, Number of Publications = 270 articles\n",
      "Year = 2018, Number of Publications = 380 articles\n",
      "Year = 2019, Number of Publications = 344 articles\n",
      "Year = 2020, Number of Publications = 481 articles\n",
      "Year = 2021, Number of Publications = 506 articles\n",
      "Year = 2022, Number of Publications = 563 articles\n",
      "Year = 2023, Number of Publications = 765 articles\n",
      "\n",
      "\n"
     ]
    }
   ],
   "source": [
    "# Number of publications by year from China\n",
    "\n",
    "## Run an SQL query \n",
    "dbConnection = ConnectToDatabase()\n",
    "Year = []\n",
    "Count_China=[]\n",
    "if dbConnection is not None:\n",
    "    SQL_Query_Text = \"select Pub_Year, count(*) as count from public.scopusapidata where (affil_country = 'China') group by Pub_Year order by Pub_Year asc\"\n",
    "    queryResults = sqlQuery(dbConnection,SQL_Query_Text)\n",
    "    for s in queryResults:\n",
    "        print(\"Year = {}, Number of Publications = {} articles\".format(s[0], s[1]))\n",
    "        Year.append(s[0])\n",
    "        Count_China.append(s[1])\n",
    "    print(\"\\n\")\n",
    "    dbConnection.close()\n",
    "else:\n",
    "    print(\"Failed to connect to the database.\")"
   ]
  },
  {
   "cell_type": "code",
   "execution_count": 79,
   "metadata": {},
   "outputs": [
    {
     "data": {
      "text/plain": [
       "Text(0.5, 0, 'Year')"
      ]
     },
     "execution_count": 79,
     "metadata": {},
     "output_type": "execute_result"
    },
    {
     "data": {
      "image/png": "[encoded data removed]",
      "text/plain": [
       "<Figure size 1500x500 with 2 Axes>"
      ]
     },
     "metadata": {},
     "output_type": "display_data"
    }
   ],
   "source": [
    "# PLOT - Number of publications by year from China\n",
    "\n",
    "# dictionary of lists \n",
    "dict_China = {'Pub_Year': Year, 'Count': Count_China} \n",
    "\n",
    "# Create df from SQL query results\n",
    "Pub_China = pd.DataFrame(dict_China)\n",
    "\n",
    "# New column: rate of change in number of publications by year\n",
    "Pub_China['Rate_of_Change'] = Pub_China['Count'].pct_change(periods=2) * 100\n",
    "\n",
    "# Copy of df to exlude year 2013 as rate of change is NaN\n",
    "Pub_China_exclnan = Pub_China[~Pub_China['Pub_Year'].isin([2013, 2014])] # ~ is the NOT operator\n",
    "\n",
    "# Set up colour values for rate of change\n",
    "colours = ['green' if val >= 0 else 'red' for val in Pub_China_exclnan['Rate_of_Change']]\n",
    "\n",
    "# Plot number of publications and rate of change\n",
    "\n",
    "fig, (ax1, ax2) = plt.subplots(1,2,figsize=(15, 5))\n",
    "\n",
    "bars = ax1.bar(Pub_China['Pub_Year'], Pub_China['Count'], label=Pub_China['Pub_Year'])\n",
    "ax1.set_xticks(Pub_China['Pub_Year'], labels=Pub_China['Pub_Year'], rotation= 45, size = 8)\n",
    "ax1.tick_params(axis='y', labelsize=8)  # Set the label size for y-axis\n",
    "ax1.set_ylabel('No. of Publications')\n",
    "ax1.set_xlabel('Year', fontsize = 10)\n",
    "ax1.set_title('Number of Publications from China by Year', fontsize = 10)\n",
    "# Add count value on top of each bar\n",
    "for bar in bars:\n",
    "    yval = bar.get_height()\n",
    "    ax1.text(bar.get_x() + bar.get_width()/2, yval, int(yval), ha='center', va='bottom', fontsize=8)\n",
    "\n",
    "\n",
    "ax2.plot(Pub_China_exclnan['Pub_Year'], Pub_China_exclnan['Rate_of_Change'], linestyle=\"--\", color= 'gray', label=\"Rate of Change\")\n",
    "ax2.scatter(Pub_China_exclnan['Pub_Year'], Pub_China_exclnan['Rate_of_Change'], color= colours)\n",
    "ax2.set_xticks(Pub_China_exclnan['Pub_Year'], labels=Pub_China_exclnan['Pub_Year'], rotation= 45, size = 8)\n",
    "ax2.tick_params(axis='y', labelsize=8)  # Set the label size for y-axis\n",
    "ax2.set_title('Two-Year Rate of Change in Number of Publications from China', fontsize = 10)\n",
    "ax2.set_ylabel('Rate of Change (%)')\n",
    "ax2.set_xlabel('Year', fontsize = 10)"
   ]
  },
  {
   "cell_type": "code",
   "execution_count": 91,
   "metadata": {},
   "outputs": [
    {
     "name": "stdout",
     "output_type": "stream",
     "text": [
      "Connected to database\n",
      "Year = 2013, City = Wuhan, No. Publications = 51 articles\n",
      "Year = 2013, City = Beijing, No. Publications = 47 articles\n",
      "Year = 2013, City = Nanjing, No. Publications = 21 articles\n",
      "Year = 2014, City = Wuhan, No. Publications = 56 articles\n",
      "Year = 2014, City = Beijing, No. Publications = 56 articles\n",
      "Year = 2014, City = Nanjing, No. Publications = 24 articles\n",
      "Year = 2015, City = Beijing, No. Publications = 59 articles\n",
      "Year = 2015, City = Wuhan, No. Publications = 55 articles\n",
      "Year = 2015, City = Nanjing, No. Publications = 20 articles\n",
      "Year = 2016, City = Wuhan, No. Publications = 60 articles\n",
      "Year = 2016, City = Beijing, No. Publications = 54 articles\n",
      "Year = 2016, City = Nanjing, No. Publications = 37 articles\n",
      "Year = 2017, City = Beijing, No. Publications = 72 articles\n",
      "Year = 2017, City = Wuhan, No. Publications = 56 articles\n",
      "Year = 2017, City = Nanjing, No. Publications = 23 articles\n",
      "Year = 2018, City = Wuhan, No. Publications = 79 articles\n",
      "Year = 2018, City = Beijing, No. Publications = 77 articles\n",
      "Year = 2018, City = Nanjing, No. Publications = 39 articles\n",
      "Year = 2019, City = Beijing, No. Publications = 95 articles\n",
      "Year = 2019, City = Wuhan, No. Publications = 66 articles\n",
      "Year = 2019, City = Nanjing, No. Publications = 25 articles\n",
      "Year = 2020, City = Beijing, No. Publications = 112 articles\n",
      "Year = 2020, City = Wuhan, No. Publications = 75 articles\n",
      "Year = 2020, City = Nanjing, No. Publications = 48 articles\n",
      "Year = 2021, City = Beijing, No. Publications = 126 articles\n",
      "Year = 2021, City = Wuhan, No. Publications = 75 articles\n",
      "Year = 2021, City = Nanjing, No. Publications = 52 articles\n",
      "Year = 2022, City = Beijing, No. Publications = 141 articles\n",
      "Year = 2022, City = Wuhan, No. Publications = 94 articles\n",
      "Year = 2022, City = Nanjing, No. Publications = 49 articles\n",
      "Year = 2023, City = Beijing, No. Publications = 185 articles\n",
      "Year = 2023, City = Wuhan, No. Publications = 123 articles\n",
      "Year = 2023, City = Nanjing, No. Publications = 69 articles\n",
      "\n",
      "\n"
     ]
    }
   ],
   "source": [
    "# Number of publications by year from China by City - Top 3\n",
    "\n",
    "## Run an SQL query \n",
    "dbConnection = ConnectToDatabase()\n",
    "Year = []\n",
    "City = []\n",
    "Count_China_City=[]\n",
    "if dbConnection is not None:\n",
    "    SQL_Query_Text = \"WITH ranked_cities AS (SELECT Pub_Year, Affil_City, COUNT(*) AS count, ROW_NUMBER() OVER (PARTITION BY Pub_Year ORDER BY COUNT(*) DESC) AS rank FROM public.scopusapidata WHERE affil_country = 'China' GROUP BY Pub_Year, Affil_City) SELECT Pub_Year, Affil_City, count FROM ranked_cities WHERE rank <= 3 ORDER BY Pub_Year, count DESC;\"\n",
    "    queryResults = sqlQuery(dbConnection,SQL_Query_Text)\n",
    "    for s in queryResults:\n",
    "        print(\"Year = {}, City = {}, No. Publications = {} articles\".format(s[0], s[1], s[2]))\n",
    "        Year.append(s[0])\n",
    "        City.append(s[1])\n",
    "        Count_China_City.append(s[2])\n",
    "    print(\"\\n\")\n",
    "    dbConnection.close()\n",
    "else:\n",
    "    print(\"Failed to connect to the database.\")"
   ]
  },
  {
   "cell_type": "markdown",
   "metadata": {},
   "source": [
    "##### Q2 - Publication Trends in Europe"
   ]
  }
 ],
 "metadata": {
  "kernelspec": {
   "display_name": "base",
   "language": "python",
   "name": "python3"
  },
  "language_info": {
   "codemirror_mode": {
    "name": "ipython",
    "version": 3
   },
   "file_extension": ".py",
   "mimetype": "text/x-python",
   "name": "python",
   "nbconvert_exporter": "python",
   "pygments_lexer": "ipython3",
   "version": "3.11.7"
  }
 },
 "nbformat": 4,
 "nbformat_minor": 2
}
